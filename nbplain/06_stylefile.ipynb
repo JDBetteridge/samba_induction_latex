{
 "cells": [
  {
   "cell_type": "markdown",
   "metadata": {
    "slideshow": {
     "slide_type": "slide"
    }
   },
   "source": [
    "# Using a Style File"
   ]
  },
  {
   "cell_type": "markdown",
   "metadata": {
    "slideshow": {
     "slide_type": "slide"
    }
   },
   "source": [
    "## Overview:\n",
    "- **Teaching:** 15 min\n",
    "- **Exercises:** 0 min\n",
    "\n",
    "**Objectives**\n",
    "- understand how to load and use style files."
   ]
  },
  {
   "cell_type": "markdown",
   "metadata": {
    "slideshow": {
     "slide_type": "slide"
    }
   },
   "source": [
    "When writing large documents or using lots of the same information again it can be useful to use style files. Style files have the extension \"`.sty`\", if you download templates for poster or slides you will notice lots of these use style files."
   ]
  },
  {
   "cell_type": "markdown",
   "metadata": {},
   "source": [
    "## Get started\n",
    "\n",
    "Create a blank report tex document. If you are using texmaker or texstudio you can use the Wizard -> Quick Start. You can also use the structure below."
   ]
  },
  {
   "cell_type": "markdown",
   "metadata": {},
   "source": [
    "$\\textbf{Main tex skeleton:}$\n",
    "\n",
    "```latex\n",
    "\\documentclass{report}\n",
    " \n",
    "\\begin{document}\n",
    "Some text for your document\n",
    " \n",
    "\\end{document}\n",
    "```"
   ]
  },
  {
   "cell_type": "markdown",
   "metadata": {},
   "source": [
    "If you used the Quick Start Wizard you'll notice the tex document also includes:\n",
    "\n",
    "```latex\n",
    "\\usepackage[utf8]{inputenc}\n",
    "\\usepackage{amsmath}\n",
    "\\usepackage{amsfonts}\n",
    "\\usepackage{amssymb}\n",
    "```\n"
   ]
  },
  {
   "cell_type": "markdown",
   "metadata": {},
   "source": [
    "```latex \n",
    "\\documentclass{report}\n",
    "\\usepackage[utf8]{inputenc}\n",
    "\\usepackage{amsmath}\n",
    "\\usepackage{amsfonts}\n",
    "\\usepackage{amssymb} \n",
    "\\begin{document}\n",
    "Some text for your document\n",
    "\n",
    "\\end{document}\n",
    "```"
   ]
  },
  {
   "cell_type": "markdown",
   "metadata": {},
   "source": [
    "Sometimes this list of packages can get very long to make the tex document easier to work with you can put them all into a style file.\n",
    "Create a file \"`stylefilename.sty`\", this should be saved in the same folder as the main tex file, if it is saved elsewhere then remember to navigate to the location when it is loaded later. Inside the style file copy the preamble from the main tex, there's no need for `\\begin{document} \\end{document}`.\n",
    "The file should look something like:\n",
    "```latex\n",
    "\\usepackage[utf8]{inputenc}\n",
    "\\usepackage{amsmath}\n",
    "\\usepackage{amsfonts}\n",
    "\\usepackage{amssymb}\n",
    "```\n"
   ]
  },
  {
   "cell_type": "markdown",
   "metadata": {},
   "source": [
    "Now edit the main tex document so that the style file is loaded as a package. If your style file was saved in a different directory to your main tex file then you may need to navigate to the file using `../`.\n",
    "```latex\n",
    "\\documentclass{report}\n",
    "\\usepackage{stylefilename}\n",
    "\\begin{document}\n",
    "Some text for your document\n",
    "\n",
    "\\end{document}\n",
    "```\n",
    "You can try writing some equations to check the packages have loaded properly.\n"
   ]
  },
  {
   "cell_type": "markdown",
   "metadata": {},
   "source": [
    "# New Commands"
   ]
  },
  {
   "cell_type": "markdown",
   "metadata": {},
   "source": [
    "It is likely you will finding yourself writting the same commands over and over again. Such as:\n",
    "```latex\n",
    "\\mathbb{R}\n",
    "```"
   ]
  },
  {
   "cell_type": "markdown",
   "metadata": {},
   "source": [
    "To shorten this for yourself you can use \n",
    "```latex\n",
    "\\newcommand{\\bbR}{\\mathbb{R}}\n",
    "```\n",
    "You can do this for lengthy commands which you use a lot or for notation you may want to change. \n",
    "For example if you have a variable for the temperature which you have called `u` you could create:\n",
    "```latex\n",
    "\\newcommand{\\temp}{u}\n",
    "```\n",
    "Although this command is longer it means that if you need to change notation because you've discovered that `u` clashes with something else then you only need to change the command instead of searching through all your equations.\n",
    "This can also help to keep notation consistent between different documents."
   ]
  },
  {
   "cell_type": "markdown",
   "metadata": {},
   "source": [
    "You could add these commands to the main tex document but you could also add them to stylefile and make the tex document easier to work with. This also means that you can load the same stylefile for different documents to keep the notation the same."
   ]
  },
  {
   "cell_type": "markdown",
   "metadata": {},
   "source": [
    "To add commands to the stylefile just put them in the file. It can be a good idea to seperate them from package loading.\n",
    "```latex\n",
    "%-------------------------------------------------\n",
    "% - Package Loading\n",
    "%-------------------------------------------------\n",
    "\\usepackage[utf8]{inputenc}\n",
    "\\usepackage{amsmath}\n",
    "\\usepackage{amsfonts}\n",
    "\\usepackage{amssymb}\n",
    "%-------------------------------------------------\n",
    "% - Shorthand maths commands\n",
    "%-------------------------------------------------\n",
    "\\newcommand{\\bbR}{\\mathbb{R}}\n",
    "%-------------------------------------------------\n",
    "% - Notation\n",
    "%-------------------------------------------------\n",
    "\\newcommand{\\temp}{u}\n",
    "```"
   ]
  },
  {
   "cell_type": "markdown",
   "metadata": {},
   "source": [
    "# Document Formating"
   ]
  },
  {
   "cell_type": "markdown",
   "metadata": {},
   "source": [
    "Most of what goes in the preamble of a tex file can go in a style file.\n",
    "You can load colors:\n",
    "```latex\n",
    "%-------------------------------------------------------------------------------------------------\n",
    "%         COLOURS\n",
    "%-------------------------------------------------------------------------------------------------\n",
    "\n",
    "\\definecolor{lgreen} {RGB}{180,210,100}\n",
    "\\definecolor{dblue}  {RGB}{20,66,129}\n",
    "```\n",
    "You can format the appearance of your document. \n",
    "```latex\n",
    "%-------------------------------------------------------------------------------------------------\n",
    "%        FIGURE STYLE\n",
    "%-------------------------------------------------------------------------------------------------\n",
    "\\newcommand{\\captioncolour}{violet}\n",
    "\\captionsetup[figure]{labelfont={color=\\captioncolour ,it, bf}, textfont={color=\\captioncolour ,it}}\n",
    "```\n",
    "You can define lengths which you can use in your document\n",
    "```latex\n",
    "%-------------------------------------------------------------------------------------------------\n",
    "%         LENGTHS\n",
    "%-------------------------------------------------------------------------------------------------\n",
    "\n",
    "%Page lengths\n",
    "\\setlength{\\paperwidth}{8.3in} % A0 33.1in,  A1\t23.4, A2\t16.5 x 23.4 in, A3 11.7, A4\t8.3\n",
    "\\setlength{\\paperheight}{11.7in} % A0 46.8in,  A1 33.1in, A2 23.4in, A3 16.5in, A4 11.7in\n",
    "%Image lengths\n",
    "\\newcommand{\\singlefigurewidth}{0.7\\linewidth}\n",
    "\\newcommand{\\doublefigurewidth}{0.49\\linewidth}\n",
    "```\n",
    "Define theorem formatting:\n",
    "```latex\n",
    "%-------------------------------------------------------------------------------------------------\n",
    "%         THEOREMS\n",
    "%-------------------------------------------------------------------------------------------------\n",
    "\n",
    " \\theoremstyle{plain}\n",
    "\\newtheorem{thm}{Theorem}[section]\n",
    "\\newtheorem{prop}[thm]{Proposition}\n",
    "\\newtheorem*{cor}{Corollary}\n",
    "\\newtheorem{rem}{Remark}[section]\n",
    "\n",
    "\\theoremstyle{definition}\n",
    "\n",
    "\\newtheorem{conj}{Conjecture}[section]\n",
    "\\newtheorem{exmp}{Example}[section]\n",
    "\n",
    "\\newtheorem{defn}{Definition}[section]\n",
    "```\n",
    "Define the title information such as `title`, `author` and `institution`.\n",
    "```latex\n",
    "\n",
    "%-------------------------------------------------------------------------------------------------\n",
    "%         COMMON PHRASES\n",
    "%-------------------------------------------------------------------------------------------------\n",
    "% Header Information\n",
    "\\newcommand{\\subtitle}{Report name}\n",
    "\\title{Title of project \\\\ \\vertspace  \\large{-\\subtitle}-} % Report title \n",
    "\n",
    "\\newcommand{\\supervisor}{supervisor name}\n",
    "\\newcommand{\\institute}{University of Bath} % Institution\n",
    "\\newcommand{\\student}{Student name}\n",
    "\\newcommand{\\company}{Company sponsor name}\n",
    "\\newcommand{\\logos}{\n",
    "\\includegraphics[height=\\logoheight]{Logos/bathuni} \n",
    "}\n",
    "\\author{\\Large{Student: \\student } \\\\ \\vertspace \\\\ \\large{Academic supervisors: \\supervisor} \\\\ \\vertspace \\\\ \\logos }\n",
    "```"
   ]
  },
  {
   "cell_type": "markdown",
   "metadata": {
    "slideshow": {
     "slide_type": "slide"
    }
   },
   "source": [
    "# Using multiple style files."
   ]
  },
  {
   "cell_type": "markdown",
   "metadata": {},
   "source": [
    "All the information we have looked at so far can go in one style file however you may find that you are copying a lot into new style files for different documents or loading previous style files and searching for the parts you need to change. \n",
    "To make this easier to manage you can seperate the style files so that you have one that contains the preamble specific to the report you are working on. It's sensible to name this with something connected to the `reportname`. You could then have another one for common shorthand such as \n",
    "```latex \n",
    "\\bbR \n",
    "```\n",
    "you will probably want to load this for almost everything you want to work on. Then you will need another stylefile for your notation, this will be specifically for your project but you may want to use it for many reports."
   ]
  },
  {
   "cell_type": "markdown",
   "metadata": {},
   "source": [
    "# Key Points:\n",
    "- Style files are loaded as packages.\n",
    "- Style files can be used to shorten the main tex file and to load the same information between files."
   ]
  },
  {
   "cell_type": "code",
   "execution_count": null,
   "metadata": {
    "collapsed": true
   },
   "outputs": [],
   "source": []
  }
 ],
 "metadata": {
  "anaconda-cloud": {},
  "celltoolbar": "Slideshow",
  "kernelspec": {
   "display_name": "Python 2",
   "language": "python",
   "name": "python2"
  },
  "language_info": {
   "codemirror_mode": {
    "name": "ipython",
    "version": 2
   },
   "file_extension": ".py",
   "mimetype": "text/x-python",
   "name": "python",
   "nbconvert_exporter": "python",
   "pygments_lexer": "ipython2",
   "version": "2.7.15+"
  }
 },
 "nbformat": 4,
 "nbformat_minor": 2
}
