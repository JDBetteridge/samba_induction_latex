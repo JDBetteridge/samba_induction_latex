{
 "cells": [
  {
   "cell_type": "markdown",
   "metadata": {
    "slideshow": {
     "slide_type": "slide"
    }
   },
   "source": [
    "# Writing mathematics"
   ]
  },
  {
   "cell_type": "markdown",
   "metadata": {
    "slideshow": {
     "slide_type": "slide"
    }
   },
   "source": [
    "## Overview:\n",
    "- **Teaching:** 30 min\n",
    "- **Exercises:** 0 min\n",
    "\n",
    "**Objectives**\n",
    "- To introduce syntax that will enable you to write mathematical expressions\n",
    "- Suggest some commonly used environments to help control the display of equations"
   ]
  },
  {
   "cell_type": "markdown",
   "metadata": {
    "slideshow": {
     "slide_type": "slide"
    }
   },
   "source": [
    "## Getting started\n",
    "As you have seen in the [last lesson](./01_intro.ipynb), we use the `amsmath` package for writing mathematics. \n",
    "Make sure you have loaded that package into your preamble, that is you have the command\n",
    "```latex\n",
    "\\usepackage{amsmath}\n",
    "```\n",
    "between your `\\documentclass{}` and `\\begin{document}` commands!"
   ]
  },
  {
   "cell_type": "markdown",
   "metadata": {
    "slideshow": {
     "slide_type": "slide"
    }
   },
   "source": [
    "## Information+: Mathematical Mode\n",
    "\n",
    "Before we start writing mathematical commands in $\\LaTeX$, we have to tell it that's what we are doing!\n",
    "\n",
    "$\\LaTeX$ allows us to writing mathematical expressions in two different modes: inline and display. \n",
    "Inline mode will insert the expression you write into the line of the text, whilst display mode will give the equation it's own line. \n",
    "As such; display mode is useful for drawing attention to a given formula like in a definition, displaying long formulas, or displaying equations with fractions or superscripts that might get cluttered into the rest of the text.\n",
    "Inline mode is much more useful for referring to variables by name in the text: if you have a variable $x$, you don't want a new line _every_ time you need to refer to $x$!\n",
    "\n",
    "To tell $\\LaTeX$ we want to type some maths, we use dollar signs `$` to enclose the expression.\n",
    "Let's see an example of the _inline_ mode:"
   ]
  },
  {
   "cell_type": "code",
   "execution_count": 1,
   "metadata": {},
   "outputs": [
    {
     "data": {
      "text/latex": [
       "In physics, the mass-energy equivalence of a particle at rest is given by the equation $E=mc^2$, first postulated \n",
       "in 1905 by Albert Einstein.\n"
      ],
      "text/plain": [
       "<IPython.core.display.Latex object>"
      ]
     },
     "metadata": {},
     "output_type": "display_data"
    }
   ],
   "source": [
    "%%latex\n",
    "In physics, the mass-energy equivalence of a particle at rest is given by the equation $E=mc^2$, first postulated \n",
    "in 1905 by Albert Einstein."
   ]
  },
  {
   "cell_type": "markdown",
   "metadata": {
    "slideshow": {
     "slide_type": "slide"
    }
   },
   "source": [
    "Notice how the equation is placed inside the sentance - it will also automatically break onto a new line if the sentance is too long, and for all intents and purposes the letters in the equation will act like letters in the sentance.\n",
    "We can also put equations in inline mode using `\\begin{math} \\end{math}` too, if you prefer to make your source code more explicit.\n",
    "However, enclosing the expression in dollar signs `$` is also sufficient, faster, and common practice, but ultimately it's just a matter of taste.\n",
    "\n",
    "However you might decide that such an important equation is deserving of more attention, or might not like how close the power of two gets to the line above the equation in the paragraph.\n",
    "In this case, we can use _display_ mode: we type exactly the same thing into the math environment, but this time use a double-dollar sign `$$` to enclose it."
   ]
  },
  {
   "cell_type": "code",
   "execution_count": 2,
   "metadata": {
    "slideshow": {
     "slide_type": "slide"
    }
   },
   "outputs": [
    {
     "data": {
      "text/latex": [
       "In physics, the mass-energy equivalence of a particle at rest is given by the equation $$E=mc^2,$$ first postulated \n",
       "in 1905 by Albert Einstein.\n"
      ],
      "text/plain": [
       "<IPython.core.display.Latex object>"
      ]
     },
     "metadata": {},
     "output_type": "display_data"
    }
   ],
   "source": [
    "%%latex\n",
    "In physics, the mass-energy equivalence of a particle at rest is given by the equation $$E=mc^2,$$ first postulated \n",
    "in 1905 by Albert Einstein."
   ]
  },
  {
   "cell_type": "markdown",
   "metadata": {},
   "source": [
    "We could also use the more explicit `\\begin{equation}` and `\\end{equation}` commands to create a display environment, again this comes down to personal choice\n",
    "\n",
    ":Information+"
   ]
  },
  {
   "cell_type": "markdown",
   "metadata": {},
   "source": [
    "# Equation Content"
   ]
  },
  {
   "cell_type": "markdown",
   "metadata": {},
   "source": [
    "## Subscripts and superscripts\n",
    "\n",
    "In the examples above we used the carrot `^` symbol to inform $\\LaTeX$ that we wanted to have a superscript on the letter $c$ in $mc^2$.\n",
    "We can also tell $\\LaTeX$ to write subscripts by using an underscore `_` after the symbol we want to attribute the subscript to, like below:"
   ]
  },
  {
   "cell_type": "code",
   "execution_count": 3,
   "metadata": {},
   "outputs": [
    {
     "data": {
      "text/latex": [
       "$x_n \\rightarrow 0$ as $n \\rightarrow \\infty$\n"
      ],
      "text/plain": [
       "<IPython.core.display.Latex object>"
      ]
     },
     "metadata": {},
     "output_type": "display_data"
    }
   ],
   "source": [
    "%%latex\n",
    "$x_n \\rightarrow 0$ as $n \\rightarrow \\infty$"
   ]
  },
  {
   "cell_type": "markdown",
   "metadata": {},
   "source": [
    "And we can give both a super and subscript to symbols by giving both an underscore and a carrot symbol after it:"
   ]
  },
  {
   "cell_type": "code",
   "execution_count": 4,
   "metadata": {},
   "outputs": [
    {
     "data": {
      "text/latex": [
       "$$ \\int_0^1 e^x dx = e $$\n"
      ],
      "text/plain": [
       "<IPython.core.display.Latex object>"
      ]
     },
     "metadata": {},
     "output_type": "display_data"
    }
   ],
   "source": [
    "%%latex\n",
    "$$ \\int_0^1 e^x dx = e $$"
   ]
  },
  {
   "cell_type": "markdown",
   "metadata": {},
   "source": [
    "Notice how I said _symbol_ - the integral symbol (`\\int`) is a symbol, so we can tell $\\LaTeX$ to give it a superscript and subscript!\n",
    "However we need to be more careful when our superscripts or subscripts are more than one character long themselves - look at what happens if we render the source code below:"
   ]
  },
  {
   "cell_type": "code",
   "execution_count": 5,
   "metadata": {},
   "outputs": [
    {
     "data": {
      "text/latex": [
       "$$ \\int_0^1 e^2x dx = e^2 $$\n"
      ],
      "text/plain": [
       "<IPython.core.display.Latex object>"
      ]
     },
     "metadata": {},
     "output_type": "display_data"
    }
   ],
   "source": [
    "%%latex\n",
    "$$ \\int_0^1 e^2x dx = e^2 $$"
   ]
  },
  {
   "cell_type": "markdown",
   "metadata": {},
   "source": [
    "That hasn't had the desired effect!\n",
    "We wanted $2x$ in the superscript, but $\\LaTeX$ has only put the $2$ in it.\n",
    "What we should do is place the superscript into curly braces `{ }` so that $\\LaTeX$ knows we want the whole expression in the superscript."
   ]
  },
  {
   "cell_type": "code",
   "execution_count": 6,
   "metadata": {},
   "outputs": [
    {
     "data": {
      "text/latex": [
       "$$ \\int_0^1 e^{2x} dx = e^2 $$\n"
      ],
      "text/plain": [
       "<IPython.core.display.Latex object>"
      ]
     },
     "metadata": {},
     "output_type": "display_data"
    }
   ],
   "source": [
    "%%latex\n",
    "$$ \\int_0^1 e^{2x} dx = e^2 $$"
   ]
  },
  {
   "cell_type": "markdown",
   "metadata": {},
   "source": [
    "The same applies to subscripts as well.\n",
    "Furthermore, the use of `{ }` is necessary if you want to nest superscripts or subscripts - that is you want superscripts which themselves have superscripts:"
   ]
  },
  {
   "cell_type": "code",
   "execution_count": 7,
   "metadata": {},
   "outputs": [
    {
     "data": {
      "text/latex": [
       "$$ \\int_0^1 e^{x^{2}} dx \\approx 1.46265 $$\n",
       "\n",
       "If $ x_{n_{k}} \\rightarrow \\infty $ as $k \\rightarrow \\infty$,\n",
       "then $ x^{-1}_{n_{k}} \\rightarrow 0$ as $k \\rightarrow \\infty$. \n"
      ],
      "text/plain": [
       "<IPython.core.display.Latex object>"
      ]
     },
     "metadata": {},
     "output_type": "display_data"
    }
   ],
   "source": [
    "%%latex\n",
    "$$ \\int_0^1 e^{x^{2}} dx \\approx 1.46265 $$\n",
    "\n",
    "If $ x_{n_{k}} \\rightarrow \\infty $ as $k \\rightarrow \\infty$,\n",
    "then $ x^{-1}_{n_{k}} \\rightarrow 0$ as $k \\rightarrow \\infty$. "
   ]
  },
  {
   "cell_type": "markdown",
   "metadata": {},
   "source": [
    "## Greek letters\n",
    "\n",
    "A common sight in mathematics lectures, textbooks, and papers are greek letters (anyone remember all those epsilons from Analysis?).\n",
    "Greek letters are produced in mathematics mode by preceding the name of the letter by a backslash.\n",
    "If you want the captial of a greek letter, you simply type it's name with a captial after the backslash!\n",
    "\n",
    "![](../images/greek.png)\n",
    "\n",
    "For further reference see the [Overleaf page](https://www.overleaf.com/learn/latex/List_of_Greek_letters_and_math_symbols)."
   ]
  },
  {
   "cell_type": "markdown",
   "metadata": {},
   "source": [
    "## Information+: Common symbols and keywords\n",
    "\n",
    "Some other common symbols and layout keywords that can be accessed by a (reserved) name in $\\LaTeX$ are given below, along with some examples.\n",
    "\n",
    "Useful symbols that are often found in equations:\n",
    "- `\\sum` : for the summation symbol. Similarly `\\prod` produces the product symbol.\n",
    "- `\\int` : for the integral. This can be \"stacked\" to produce double integrals.\n",
    "- `\\approx` : approximately equals symbol.\n",
    "- `( )`,`[ ]`, and `\\{ \\}` : will produce round, square, and curly braces.\n",
    "- `\\forall` and `exists` : produce the for-all and there-exists symbols in logic expressions.\n",
    "- `\\geq`, `\\leq` : produce greater (respectively lesser) than or equal to symbols. You can use `<` and `>` for the usual less/greater than."
   ]
  },
  {
   "cell_type": "code",
   "execution_count": 8,
   "metadata": {},
   "outputs": [
    {
     "data": {
      "text/latex": [
       "$$ \\sum_{n=1}^{\\infty} n^{-1} = \\infty $$\n",
       "\n",
       "$$ \\int_0^1 \\int_0^1 e^{x^{2} + y^{2}} dx dy \\approx 2.13935 $$\n",
       "\n",
       "$$ (1-x)^n \\geq 1 - nx,  \\forall |x|\\leq 1 $$\n"
      ],
      "text/plain": [
       "<IPython.core.display.Latex object>"
      ]
     },
     "metadata": {},
     "output_type": "display_data"
    }
   ],
   "source": [
    "%%latex\n",
    "$$ \\sum_{n=1}^{\\infty} n^{-1} = \\infty $$\n",
    "\n",
    "$$ \\int_0^1 \\int_0^1 e^{x^{2} + y^{2}} dx dy \\approx 2.13935 $$\n",
    "\n",
    "$$ (1-x)^n \\geq 1 - nx,  \\forall |x|\\leq 1 $$"
   ]
  },
  {
   "cell_type": "markdown",
   "metadata": {},
   "source": [
    "As for writing fractions and derivatives, we can use:\n",
    "- `\\frac{x}{y}` : produces the fraction $\\frac{x}{y}$. You can replace `x` and `y` with any expressions you like of course.\n",
    "- `\\dfrac{du}{dt}` : produces the derivative $\\dfrac{du}{dt}$. You could also use `\\frac` for this, but `\\dfrac` is setup to produce a nicer-looking derivative."
   ]
  },
  {
   "cell_type": "code",
   "execution_count": 9,
   "metadata": {},
   "outputs": [
    {
     "data": {
      "text/latex": [
       "If $y=x^3$ then $\\dfrac{dy}{dx} = \\frac{1}{3}x^2$.\n"
      ],
      "text/plain": [
       "<IPython.core.display.Latex object>"
      ]
     },
     "metadata": {},
     "output_type": "display_data"
    }
   ],
   "source": [
    "%%latex\n",
    "If $y=x^3$ then $\\dfrac{dy}{dx} = \\frac{1}{3}x^2$."
   ]
  },
  {
   "cell_type": "markdown",
   "metadata": {},
   "source": [
    ":Information+"
   ]
  },
  {
   "cell_type": "markdown",
   "metadata": {},
   "source": [
    "## Matrices\n",
    "\n",
    "We can use the `pmatrix` environment to create matrices.\n",
    "Note that you can only create a `pmatrix` environment _inside_ a `math` environment (remember that `math` environments are any environment that allows you to render equations; so `equation`, `align`, and `multiline` which you will see shortly are all `math` environments).\n",
    "\n",
    "We use ampersands (`&`) to tell $\\LaTeX$ we are starting a column of the matrix, and the double backslash (`\\\\`) to denote a new row:"
   ]
  },
  {
   "cell_type": "code",
   "execution_count": 10,
   "metadata": {},
   "outputs": [
    {
     "data": {
      "text/latex": [
       "\\begin{equation}\n",
       "A = \n",
       "\\begin{pmatrix}\n",
       "a & b & c\\\\\n",
       "d & e & f\\\\\n",
       "g & h & i\\\\\n",
       "\\end{pmatrix}\n",
       "\\end{equation}\n"
      ],
      "text/plain": [
       "<IPython.core.display.Latex object>"
      ]
     },
     "metadata": {},
     "output_type": "display_data"
    }
   ],
   "source": [
    "%%latex\n",
    "\\begin{equation}\n",
    "A = \n",
    "\\begin{pmatrix}\n",
    "a & b & c\\\\\n",
    "d & e & f\\\\\n",
    "g & h & i\\\\\n",
    "\\end{pmatrix}\n",
    "\\end{equation}"
   ]
  },
  {
   "cell_type": "markdown",
   "metadata": {},
   "source": [
    "Notice how in `math` mode, $\\LaTeX$ ignores line breaks unless we use a double backslash."
   ]
  },
  {
   "cell_type": "markdown",
   "metadata": {},
   "source": [
    "## Information: Give me a symbol!\n",
    "\n",
    "Want to write a certain symbol in $\\LaTeX$ but don't know the name of the command to use?\n",
    "Worry not - there is an incredibily useful website called [DeTeXify](http://detexify.kirelabs.org/classify.html) at which you can _draw_ the symbol you want and the webpage will make suggestions as to how to obtain it in $\\LaTeX$."
   ]
  },
  {
   "cell_type": "markdown",
   "metadata": {},
   "source": [
    "# Equation layout and formatting"
   ]
  },
  {
   "cell_type": "markdown",
   "metadata": {},
   "source": [
    "## Numering equations\n",
    "One advantage of using `\\begin{equation} \\end{equation}` to display mathematics expression is that it automatically numbers your equations. \n",
    "This is very handy when you have many equations in a single files: if new equations are added or any existed equations are deleted, the numbering of equations will be automatically adjusted.\n",
    "\n",
    "We can also prevent $\\LaTeX$ from numbering an equation by placing an asterix (`*`) after the name of the environment - by way of illustration, try copying the following code into your source file and rendering it:\n",
    "\n",
    "```latex\n",
    "This equation is super important and I'll be refering back to it a lot:\n",
    "\\begin{equation}\n",
    "    P(B|A) = \\frac{P(A|B)P(B)}{P(A)}.\n",
    "\\end{equation}\n",
    "As for this equation, well we won't be needing to refer back to it, but the reader should still notice it when they glance at the page:\n",
    "\\begin{equation*}\n",
    "    P(A\\cup B) = 1\n",
    "\\end{equation*}\n",
    "```\n",
    "\n",
    "Notice how the use of `\\begin{equation*} \\end{equation*}` instead of `\\begin{equation} \\end{equation}` has prevented an equation number being produced.\n",
    "Now try adding another (labelled) equation that appears after the unlabelled one, and rendering your document.\n",
    "Then add another labelled equation between the original two equations - you should notice $\\LaTeX$ automatically handles the renumbering!"
   ]
  },
  {
   "cell_type": "markdown",
   "metadata": {},
   "source": [
    "## Displaying long equations\n",
    "\n",
    "Sometimes equations are just too long to fit on one line - in this case we use a special math environment called the `multiline` environment.\n",
    "Insert a double backslash (`\\\\`) to set a point for the equation to be broken onto the next line. \n",
    "Anything before the backslash will be aligned to the left and anything afterwards will be displayed in the next line and aligned to the right."
   ]
  },
  {
   "cell_type": "code",
   "execution_count": 11,
   "metadata": {},
   "outputs": [
    {
     "data": {
      "text/latex": [
       "\\begin{multline*}\n",
       "p(x) = 3x^6 + 14x^5y + 590x^4y^2 + 19x^3y^3+14x^5y + 590x^4y^6 + 19x^3y^8 -x^2 - x^9 + \\sin(4\\pi) \\\\ %line break here\n",
       "- 12x^2y^4 - 12xy^5 + 2y^6 - a^3b^3\n",
       "\\end{multline*}\n"
      ],
      "text/plain": [
       "<IPython.core.display.Latex object>"
      ]
     },
     "metadata": {},
     "output_type": "display_data"
    }
   ],
   "source": [
    "%%latex\n",
    "\\begin{multline*}\n",
    "p(x) = 3x^6 + 14x^5y + 590x^4y^2 + 19x^3y^3+14x^5y + 590x^4y^6 + 19x^3y^8 -x^2 - x^9 + \\sin(4\\pi) \\\\ %line break here\n",
    "- 12x^2y^4 - 12xy^5 + 2y^6 - a^3b^3\n",
    "\\end{multline*}"
   ]
  },
  {
   "cell_type": "markdown",
   "metadata": {},
   "source": [
    "Note that in general the the double backslash inserts a line break.\n",
    "\n",
    "## Aligning several equations\n",
    "\n",
    "If there are several equations that you need to align vertically, the `align` environment will do the job. \n",
    "Use an ampersand (`&`) to tell $\\LaTeX$ at which point each line should line up, and use the double backslash (`\\\\`) to create new lines."
   ]
  },
  {
   "cell_type": "code",
   "execution_count": 12,
   "metadata": {},
   "outputs": [
    {
     "data": {
      "text/latex": [
       "\\begin{align*} \n",
       "2x - 5y &=  8 \\\\ \n",
       "3x + 9y &=  -12\n",
       "\\end{align*}\n",
       "\n",
       "We can also force $\\LaTeX$ to align at multiple points:\n",
       "\\begin{align*}\n",
       "-u''(t) &= \\omega^2 u(t), &t \\in (0,1) \\\\\n",
       "-u''(t) &= \\omega^2 u(t) + \\nu u'(t), &t \\in [1,2]\n",
       "\\end{align*}\n"
      ],
      "text/plain": [
       "<IPython.core.display.Latex object>"
      ]
     },
     "metadata": {},
     "output_type": "display_data"
    }
   ],
   "source": [
    "%%latex\n",
    "\\begin{align*} \n",
    "2x - 5y &=  8 \\\\ \n",
    "3x + 9y &=  -12\n",
    "\\end{align*}\n",
    "\n",
    "We can also force $\\LaTeX$ to align at multiple points:\n",
    "\\begin{align*}\n",
    "-u''(t) &= \\omega^2 u(t), &t \\in (0,1) \\\\\n",
    "-u''(t) &= \\omega^2 u(t) + \\nu u'(t), &t \\in [1,2]\n",
    "\\end{align*}"
   ]
  },
  {
   "cell_type": "markdown",
   "metadata": {},
   "source": [
    "## Exercise: Writing Equations\n",
    "\n",
    "Try to display the follow equations in $\\LaTeX$:\n",
    "\n",
    "$$ \\frac{\\prod_{ij}P(A_{ij} = a_{ij}|b)}{\\prod_{ij}A_{ij}!}  $$\n",
    "\n",
    "Now try to copy this sentance followed by the function definition - the function definition should all be aligned as you see it displayed here!\n",
    "\n",
    "We define the function $f$ with codomain $(-\\infty,\\infty)$ as follows:\n",
    "\\begin{align*}\n",
    "f:(-\\infty, \\infty) &\\rightarrow [0,1], \\\\\n",
    "f(x) &= 0, & x < 0, \\\\\n",
    "f(x) &= \\frac{1}{2}, & x = 0 \\\\\n",
    "f(x) &= 1, & x > 1.\n",
    "\\end{align*}\n",
    "\n",
    "[Solution]()"
   ]
  },
  {
   "cell_type": "markdown",
   "metadata": {},
   "source": [
    "## Solution+: Writing Equations\n",
    "\n",
    "The code you should have placed between your `\\begin{document}` and `\\end{document}` should be:"
   ]
  },
  {
   "cell_type": "code",
   "execution_count": 13,
   "metadata": {},
   "outputs": [
    {
     "data": {
      "text/latex": [
       "$$ \\frac{\\prod_{ij}P(A_{ij} = a_{ij}|b)}{\\prod_{ij}A_{ij}!}  $$\n",
       "\n",
       "We define the function $f$ with codomain $(-\\infty,\\infty)$ as follows:\n",
       "\\begin{align*}\n",
       "f:(-\\infty, \\infty) &\\rightarrow [0,1], \\\\\n",
       "f(x) &= 0, & x < 0, \\\\\n",
       "f(x) &= \\frac{1}{2}, & x = 0 \\\\\n",
       "f(x) &= 1, & x > 1.\n",
       "\\end{align*}\n"
      ],
      "text/plain": [
       "<IPython.core.display.Latex object>"
      ]
     },
     "metadata": {},
     "output_type": "display_data"
    }
   ],
   "source": [
    "%%latex\n",
    "$$ \\frac{\\prod_{ij}P(A_{ij} = a_{ij}|b)}{\\prod_{ij}A_{ij}!}  $$\n",
    "\n",
    "We define the function $f$ with codomain $(-\\infty,\\infty)$ as follows:\n",
    "\\begin{align*}\n",
    "f:(-\\infty, \\infty) &\\rightarrow [0,1], \\\\\n",
    "f(x) &= 0, & x < 0, \\\\\n",
    "f(x) &= \\frac{1}{2}, & x = 0 \\\\\n",
    "f(x) &= 1, & x > 1.\n",
    "\\end{align*}\n"
   ]
  },
  {
   "cell_type": "markdown",
   "metadata": {},
   "source": [
    ":Solution+"
   ]
  },
  {
   "cell_type": "markdown",
   "metadata": {},
   "source": [
    "## Key Points:\n",
    "- To write mathematics, we must be inside a `math` environment.\n",
    "- We can use _inline_ or _display_ environments, each with their own advantages.\n",
    "- We can insert symbols, scripts, and formatting into our equations using in-built $\\LaTeX$ commands."
   ]
  }
 ],
 "metadata": {
  "anaconda-cloud": {},
  "celltoolbar": "Slideshow",
  "kernelspec": {
   "display_name": "Python 3",
   "language": "python",
   "name": "python3"
  },
  "language_info": {
   "codemirror_mode": {
    "name": "ipython",
    "version": 3
   },
   "file_extension": ".py",
   "mimetype": "text/x-python",
   "name": "python",
   "nbconvert_exporter": "python",
   "pygments_lexer": "ipython3",
   "version": "3.7.3"
  }
 },
 "nbformat": 4,
 "nbformat_minor": 2
}
