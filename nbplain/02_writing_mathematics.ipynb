{
 "cells": [
  {
   "cell_type": "markdown",
   "metadata": {
    "slideshow": {
     "slide_type": "slide"
    }
   },
   "source": [
    "# Writing mathematics"
   ]
  },
  {
   "cell_type": "markdown",
   "metadata": {
    "slideshow": {
     "slide_type": "slide"
    }
   },
   "source": [
    "## Overview:\n",
    "- **Teaching:** 30 min\n",
    "- **Exercises:** 0 min\n",
    "\n",
    "**Objectives**\n",
    "- able to write basic mathematics expressions\n",
    "- able to use commonly used environment for writing mathemtics expression"
   ]
  },
  {
   "cell_type": "markdown",
   "metadata": {
    "slideshow": {
     "slide_type": "slide"
    }
   },
   "source": [
    "## Getting started\n",
    "As you have seen in the last episode, we use the $\\textit{amsmath}$ package for writing mathematics. Make sure you have the following line in your $\\textit{preamble}$"
   ]
  },
  {
   "cell_type": "markdown",
   "metadata": {
    "slideshow": {
     "slide_type": "slide"
    }
   },
   "source": [
    "```latex\n",
    "\\usepackage{amsmath}\n",
    "```"
   ]
  },
  {
   "cell_type": "markdown",
   "metadata": {
    "slideshow": {
     "slide_type": "slide"
    }
   },
   "source": [
    "# Greek letters\n",
    "\n",
    "Greek letters are produced in mathematics mode by preceding the name of the letter by a backslash.\n",
    "\n",
    "![greekletter](../images/greek.png)"
   ]
  },
  {
   "cell_type": "markdown",
   "metadata": {},
   "source": [
    "# Some exampels:"
   ]
  },
  {
   "cell_type": "markdown",
   "metadata": {},
   "source": [
    "$\\textbf{Input}:$\n",
    "\n",
    "```latex\n",
    "Pythagorean theorem: \\(x^2 + y^2 = z^2\\)\n",
    "\n",
    "Fraction: \\frac{a}{b}\n",
    "\n",
    "Summatuon: \\sum_{i=1}^{n} k_i\n",
    "\n",
    "Intergal: \\int_{a}^{b}\n",
    "\n",
    "Derivatives: \\frac{du}{dt}, \\frac{d^2u}{dt^2}, \\frac{\\partial u}{ \\partial t}\n",
    "\n",
    "```\n",
    "\n",
    "$\\textbf{Output}:$\n",
    "\n",
    "Pythagorean theorem: $x^2 + y^2 = z^2$\n",
    "\n",
    "Fraction: $\\frac{a}{b}$\n",
    "\n",
    "Summatuon: $\\sum_{i=1}^{n} k_i$\n",
    "\n",
    "Intergal: $\\int_{a}^{b}$\n",
    "\n",
    "Derivatives: $\\frac{du}{dt}, \\frac{d^2u}{dt^2}, \\frac{\\partial u}{ \\partial t}$\n",
    "\n"
   ]
  },
  {
   "cell_type": "markdown",
   "metadata": {},
   "source": [
    "Further reference https://www.overleaf.com/learn/latex/List_of_Greek_letters_and_math_symbols"
   ]
  },
  {
   "cell_type": "markdown",
   "metadata": {},
   "source": [
    "## Mathematical Mode\n",
    "\n",
    "$\\LaTeX$ allows two writing modes for mathematical expressions: the inline mode and the display mode. The first one is used to write formulas that are part of a text. The second one is used to write expressions that are not part of a text or paragraph, and are therefore put on separate lines.\n",
    "\n",
    "Let's see an example of the $\\textbf{inline}$ mode:"
   ]
  },
  {
   "cell_type": "markdown",
   "metadata": {
    "slideshow": {
     "slide_type": "slide"
    }
   },
   "source": [
    "$\\textbf{Input}:$\n",
    "\n",
    "```latex\n",
    "In physics, the mass-energy equivalence is stated by the equation $E=mc^2$, discovered in 1905 by Albert Einstein.\n",
    "```\n",
    "\n",
    "$\\textbf{Output}:$\n",
    "\n",
    "In physics, the mass-energy equivalence is stated by the equation $E=mc^2$, discovered in 1905 by Albert Einstein."
   ]
  },
  {
   "cell_type": "markdown",
   "metadata": {
    "slideshow": {
     "slide_type": "slide"
    }
   },
   "source": [
    "To put your equations in inline mode use one of these delimiters: `\\( \\)`, `$ $` or `\\begin{math} \\end{math}`. They all work and the choice is a matter of taste. This is all well and good but it isnt very practical to try insert integrals $\\int$ or summations $\\sum$ into a sentence as they get very cramped. In these cases, it looks much neater if we use the $\\textbf{displayed}$ mode to give the mathematics expressions a line on their own.\n",
    "\n",
    "The $\\textbf{displayed}$ mode looks like the following"
   ]
  },
  {
   "cell_type": "markdown",
   "metadata": {},
   "source": [
    "$\\textbf{Input}:$\n",
    "\n",
    "```latex\n",
    "In physics, the mass-energy equivalence is stated by the equation \\[E=mc^2\\], discovered in 1905 by Albert Einstein.\n",
    "```\n",
    "\n",
    "$\\textbf{Output}:$\n",
    "\n",
    "In physics, the mass-energy equivalence is stated \n",
    "by the equation \\begin{equation}E=mc^2,\\end{equation} discovered in 1905 by Albert Einstein."
   ]
  },
  {
   "cell_type": "markdown",
   "metadata": {},
   "source": [
    "To print your equations in display mode use one of these delimiters: `\\[ \\]`, `$$ $$`, `\\begin{displaymath} \\end{displaymath}` or `\\begin{equation} \\end{equation}`."
   ]
  },
  {
   "cell_type": "markdown",
   "metadata": {},
   "source": [
    "## Numering equations\n",
    "One advantage of using `\\begin{equation} \\end{equation}` to display mathematics expression is that it automatically numbers your equations. This is very handy when you have many equations in a single files: if new equations are added or any existed equations are deleted, the numbering of equations will be automatically adjusted.\n",
    "\n",
    "Copy the following code to your input pane and see how the numbering of equations look like."
   ]
  },
  {
   "cell_type": "markdown",
   "metadata": {},
   "source": [
    "$\\textbf{Input}:$\n",
    "\n",
    "```latex\n",
    "This is the first equation\n",
    "\\begin{equation}\n",
    "    P(b|A) = \\frac{P(A|b)P(b)}{P(A)}.\n",
    "\\end{equation}\n",
    "And here is the second,\n",
    "\\begin{equation}\n",
    "    P(A) = \\sum_{b} P(A|b)P(b).\n",
    "\\end{equation}\n",
    "\n",
    "```\n",
    "\n",
    "$\\textbf{Output}:$\n",
    "\n",
    "This is the first equation\n",
    "\\begin{equation}\n",
    "    P(b|A) = \\frac{P(A|b)P(b)}{P(A)}.\\tag{1}\n",
    "\\end{equation}\n",
    "And here is the second,\n",
    "\\begin{equation}\n",
    "    P(A) = \\sum_{b} P(A|b)P(b).\\tag{2}\n",
    "\\end{equation}"
   ]
  },
  {
   "cell_type": "markdown",
   "metadata": {},
   "source": [
    "If you don't want to number your equations, you use `\\begin{equation*} \\end{equation*}` instead of `\\begin{equation} \\end{equation}`. For example,"
   ]
  },
  {
   "cell_type": "markdown",
   "metadata": {},
   "source": [
    "$\\textbf{Input}:$\n",
    "\n",
    "```latex\n",
    "This is the first equation\n",
    "\\begin{equation}\n",
    "    P(b|A) = \\frac{P(A|b)P(b)}{P(A)}.\n",
    "\\end{equation}\n",
    "And here is the second,\n",
    "\\begin{equation}\n",
    "    P(A) = \\sum_{b} P(A|b)P(b).\n",
    "\\end{equation}\n",
    "The third equation is not numbered\n",
    "\\begin{equation*}\n",
    "    P(b) = \\frac{1}{a_{N}}.\n",
    "\\end{equation*}\n",
    "```\n",
    "\n",
    "$\\textbf{Output}:$\n",
    "\n",
    "This is the first equation\n",
    "\\begin{equation}\n",
    "    P(b|A) = \\frac{P(A|b)P(b)}{P(A)}.  \\tag{1}\n",
    "\\end{equation}\n",
    "And here is the second,\n",
    "\\begin{equation}\n",
    "    P(A) = \\sum_{b} P(A|b)P(b).         \\tag{2}\n",
    "\\end{equation}\n",
    "The third equation is not numbered\n",
    "\\begin{equation*}\n",
    "    P(b) = \\frac{1}{a_{N}}.\n",
    "\\end{equation*}"
   ]
  },
  {
   "cell_type": "markdown",
   "metadata": {},
   "source": [
    "## Displaying long equations\n",
    "For equations longer than a line use the multline environment. Insert a double backslash to set a point for the equation to be broken. The first part will be aligned to the left and the second part will be displayed in the next line and aligned to the right.\n",
    "\n",
    "Note the the double backslash inserts a line break."
   ]
  },
  {
   "cell_type": "markdown",
   "metadata": {},
   "source": [
    "$\\textbf{Input}:$\n",
    "\n",
    "```latex\n",
    "\\begin{multline*}\n",
    "p(x) = 3x^6 + 14x^5y + 590x^4y^2 + 19x^3y^3+14x^5y + 590x^4y^6 + 19x^3y^8 -x^2 - x^9 + \\sin(4\\pi) \\\\ %line break here\n",
    "- 12x^2y^4 - 12xy^5 + 2y^6 - a^3b^3\n",
    "\\end{multline*}\n",
    "```\n",
    "\n",
    "$\\textbf{Output}:$\n",
    "\\begin{multline*}\n",
    "p(x) = 3x^6 + 14x^5y + 590x^4y^2 + 19x^3y^3+14x^5y + 590x^4y^6 + 19x^3y^8 -x^2 - x^9 + \\sin(4\\pi)\\\\ \n",
    "- 12x^2y^4 - 12xy^5 + 2y^6 - a^3b^3\n",
    "\\end{multline*}"
   ]
  },
  {
   "cell_type": "markdown",
   "metadata": {},
   "source": [
    "## Aligning several equations\n",
    "\n",
    "If there are several equations that you need to align vertically, the align environment will do the job. Note that in the following example, ampersand character `&` determines where the equations align."
   ]
  },
  {
   "cell_type": "markdown",
   "metadata": {},
   "source": [
    "$\\textbf{Input}:$\n",
    "\n",
    "```latex\n",
    "\\begin{align*} \n",
    "2x - 5y &=  8 \\\\ \n",
    "3x + 9y &=  -12\n",
    "\\end{align*}\n",
    "```\n",
    "\n",
    "$\\textbf{Output}:$\n",
    "\\begin{align*} \n",
    "2x - 5y &=  8 \\\\ \n",
    "3x + 9y &=  -12\n",
    "\\end{align*}\n"
   ]
  },
  {
   "cell_type": "markdown",
   "metadata": {},
   "source": [
    "## Matrices"
   ]
  },
  {
   "cell_type": "markdown",
   "metadata": {},
   "source": [
    "We can use the `matrix` environment to write matices:"
   ]
  },
  {
   "cell_type": "markdown",
   "metadata": {},
   "source": [
    "$\\textbf{Input}:$\n",
    "\n",
    "```latex\n",
    "\\begin{matrix}\n",
    "a & b & c\\\\\n",
    "d & e & f\\\\\n",
    "g & h & i\\\\\n",
    "\\end{matrix}\n",
    "```\n",
    "\n",
    "$\\textbf{Output}:$\n",
    "$$\n",
    "   \\begin{matrix}\n",
    "    a & b & c\\\\\n",
    "    d & e & f\\\\\n",
    "    g & h & i\\\\\n",
    "    \\end{matrix}\n",
    "$$"
   ]
  },
  {
   "cell_type": "markdown",
   "metadata": {},
   "source": [
    "In some cases you may want to have finer control of the alignment within each column, or want to insert lines between columns or rows. This can be achieved using the `array` environment."
   ]
  },
  {
   "cell_type": "markdown",
   "metadata": {},
   "source": [
    "$\\textbf{Input}:$\n",
    "\n",
    "```latex\n",
    "$$ \\left( \\begin{array}{ccc}\n",
    "a & b & c \\\\\n",
    "d & e & f \\\\\n",
    "g & h & i \\end{array} \\right)$$\n",
    "```\n",
    "\n",
    "$\\textbf{Output}:$\n",
    "$$ \\left( \\begin{array}{ccc}\n",
    "a & b & c \\\\\n",
    "d & e & f \\\\\n",
    "g & h & i \\end{array} \\right)$$"
   ]
  },
  {
   "cell_type": "markdown",
   "metadata": {},
   "source": [
    "In the example above, there is a `{ccc}` which occurs immediately after `\\begin{array}`. Each of the c's in `{ccc}` represents a column of the matrix and indica/tes that the entries of the column should be centred. If the `c` were replaced by `l` then the corresponding column would be typeset with all the entries left-justified, and `r` would produce a column with all entries right-justified.\n",
    "\n",
    " Finally, `\\left( \\right)` adjust the size of the parentheses such that it match the subformula that they enclose. Try the following exercise to see the difference."
   ]
  },
  {
   "cell_type": "markdown",
   "metadata": {},
   "source": [
    "## Exercise: Try to type the following equation\n",
    "\n",
    "\\begin{equation}\n",
    "(\\frac{\\prod_{ij}P(A_{ij} = a_{ij}|b)}{\\prod_{ij}A_{ij}!})\n",
    "\\end{equation}\n",
    "\n",
    "\\begin{equation}\n",
    "\\left(\\frac{\\prod_{ij}P(A_{ij} = a_{ij}|b)}{\\prod_{ij}A_{ij}!} \\right)\n",
    "\\end{equation}"
   ]
  },
  {
   "cell_type": "code",
   "execution_count": 4,
   "metadata": {},
   "outputs": [
    {
     "data": {
      "text/latex": [
       "Type here:"
      ],
      "text/plain": [
       "<IPython.core.display.Latex object>"
      ]
     },
     "metadata": {},
     "output_type": "display_data"
    }
   ],
   "source": [
    "%%latex\n",
    "Type here:"
   ]
  },
  {
   "cell_type": "markdown",
   "metadata": {},
   "source": [
    "## Key Points:\n",
    "- write basic mathematics symbols\n",
    "- using equation environment \n",
    "- write matrices"
   ]
  }
 ],
 "metadata": {
  "celltoolbar": "Slideshow",
  "kernelspec": {
   "display_name": "Python 2",
   "language": "python",
   "name": "python2"
  },
  "language_info": {
   "codemirror_mode": {
    "name": "ipython",
    "version": 2
   },
   "file_extension": ".py",
   "mimetype": "text/x-python",
   "name": "python",
   "nbconvert_exporter": "python",
   "pygments_lexer": "ipython2",
   "version": "2.7.16"
  }
 },
 "nbformat": 4,
 "nbformat_minor": 2
}
