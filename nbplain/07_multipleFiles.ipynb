{
 "cells": [
  {
   "cell_type": "markdown",
   "metadata": {},
   "source": [
    "# Handling Multiple Files"
   ]
  },
  {
   "cell_type": "markdown",
   "metadata": {},
   "source": [
    "## Overview:\n",
    "- **Teaching:** _t_ min\n",
    "- **Exercises:** _t_ min\n",
    "\n",
    "**Objectives**\n",
    "- Understand how `\\input` and `\\include` work\n",
    "- Understand how to break a large project into multiple files"
   ]
  },
  {
   "cell_type": "markdown",
   "metadata": {},
   "source": [
    "## Introduction\n",
    "\n",
    "For a paper or maybe even a short report, it is normally fairy easy to have a single source file (`.tex`) and an external bibliography (`.bib`) that it links to.\n",
    "This source file will tend to be fairly short, even with the sectioning and potential preamble with custom macros defined.\n",
    "Things get difficult to handle when you come to thinking about writing books, a thesis, or technical documentation for code - your source file will start to bloat in size, and will become unwieldy to use.\n",
    "What's more; the documents that you find yourself writing will normally share some common notation and conventions, and you don't want to have to go to the hassle of inserting any additional macros or importing commonly used packages each time.\n",
    "\n",
    "### Divide and Conquer\n",
    "\n",
    "When you have to write a long document, the best plan is a divide-and-conquer approach.\n",
    "Rather than writing every chapter (and all your macro definitions) in the original source file; why not instead write each chapter as a separate file, and then link these files together?\n",
    "This is the approach we can going to demonstrate in this lesson; we will show how to link files containing snippets of source code together, and how to get $\\LaTeX$ to compile them and produce a single output document."
   ]
  },
  {
   "cell_type": "markdown",
   "metadata": {},
   "source": [
    "## Setup:\n",
    "\n",
    "This lesson is largely a show-and-tell on our part, so we have provided a self-contained folder with all the files that we will require which you can get [from this link](../data/MultipleFilesExample.zip).\n",
    "\n",
    "After extracting the files in the`.zip` folder, you should end up with a directory structure that looks like this:\n",
    "![Multiple Files Directory Structure](../images/MultipleFilesDirectoryStructure.png)"
   ]
  },
  {
   "cell_type": "markdown",
   "metadata": {},
   "source": [
    "## `main_file.tex`\n",
    "\n",
    "Compile the file `main_file.tex` using the 3-step $\\LaTeX$, BibTeX, $\\LaTeX$ technique to ensure that the internal references sort themselves out correctly, and take a look at the output file `main_file.pdf`.\n",
    "It (should!) consist of a book containing two short chapters - one just posing a question and showing an image, and the second chapter detailing the answer to the question.\n",
    "All in all, it seems a fairly standard document.\n",
    "\n",
    "However if you look at the source code for `main_file.tex`, you might be surprised to see it's *really* quite short:\n",
    "```latex\n",
    "\\documentclass[10pt,a4paper]{book}\n",
    "\n",
    "\\input{./preamble/preamble_maths}\n",
    "\n",
    "\\input{./preamble/preamble_images}\n",
    "\n",
    "\\begin{document}\n",
    "\n",
    "\\include{./chapters/chapter1}\n",
    "\n",
    "\\include{./chapters/chapter2}\n",
    "\n",
    "\\end{document}\n",
    "```\n",
    "\n",
    "In actual fact, `main_file.tex` is simply pulling in $\\LaTeX$ syntax from the other 4 `.tex` files that are scattered thoughout the various folders.\n",
    "\n",
    "### `\\input` and `\\include`\n",
    "\n",
    "You should also notice that there are two commands here that you haven't seen before; `\\input` and `\\include`.\n",
    "These are the commands that are pulling in information from other `.tex` files, and dumping them into `main_file.tex`.\n",
    "What these commands are actually doing is finding the files they are told to, then effectively \"copy and pasting\" exactly what's in those files directly into `main_file.tex`.\n",
    "This is why, if you look at any of the files in the `chapters` or `preamble` folders, they don't have a `\\documentclass` or `\\begin{document}` - it's because that is done inside `main_file.tex`, and the other files simply hold the content (and syntax) we want to import into our master file.\n",
    "\n",
    "Before the `\\begin{document}`, we have to use the `\\input` command to pull in files.\n",
    "After the `\\begin{document}`, you can use either, although `\\include` is normally the best choice.\n",
    "Both of these commands work in the same way - they take one argument, which is the path to the file you want the content of."
   ]
  },
  {
   "cell_type": "markdown",
   "metadata": {},
   "source": [
    "## Information: `\\input` vs `\\include`\n",
    "\n",
    "You might be wondering why bother to have the command `\\include` if `\\input` can be used in it's place and more.\n",
    "The answer itself is quite technical, and one has to be familiar with the details of how the compiling process works.\n",
    "There is a fairly good [stackExchange answer here](https://tex.stackexchange.com/questions/246/when-should-i-use-input-vs-include), which explains that the key differences are:\n",
    "- `\\include` is faster due to how it works in the compiling process. This is useful if you are only editing one chapter at a time - you don't have to recompile all your chapters at once.\n",
    "- `\\include` can't be nested; you can't `\\include` a file that aleady has an `\\include` command in it.\n",
    "- `\\include` forces a new page to start in your document whenever it is called."
   ]
  },
  {
   "cell_type": "markdown",
   "metadata": {},
   "source": [
    "## The Preamble Files\n",
    "\n",
    "Let's now take a look at the files in the `preamble` folder.\n",
    "If you completed the [previous lesson on macros](06_macros.ipynb), then you'll know that macros are very useful for standardising your notation and formatting.\n",
    "But a long report or book is going to result in a lot of notation and formatting conventions, and manually typing these out in `main_file.tex` will make it cumbersome.\n",
    "You'll also likely start wondering which packages introduce which functions; is it `amsmath` or `amssymb` that brings in `\\mathbb`, for example?\n",
    "You might not need one of these packages after editing, but could still be including it because you haven't realised you're not using any of it's commands.\n",
    "In addition, you might be writting several reports or papers over the course of your degree/PhD/academic career on similar topics, and will want the same notation throughout.\n",
    "\n",
    "The ethos behind the `preamble` folder is that it contains the files that define all our custom macros for these purposes - having one \"global\" master file that we can import is much easier than typing out everything manually each time, and leaving it in `main_file.tex`.\n",
    "You'll notice that `preamble_maths` contains our custom maths-environment commands, including `\\bracs` from before, alongside some macros for writing some common sets, like that of the natural numbers.\n",
    "\n",
    "__also preamble_images for the graph stuff, Will write this down!!!__"
   ]
  },
  {
   "cell_type": "markdown",
   "metadata": {},
   "source": [
    "## The Chapter Files\n",
    "\n",
    "can use macros from preamble even though not in same file\n",
    "\n",
    "graphics path still imported"
   ]
  },
  {
   "cell_type": "code",
   "execution_count": null,
   "metadata": {},
   "outputs": [],
   "source": []
  },
  {
   "cell_type": "code",
   "execution_count": null,
   "metadata": {},
   "outputs": [],
   "source": []
  },
  {
   "cell_type": "code",
   "execution_count": null,
   "metadata": {},
   "outputs": [],
   "source": []
  }
 ],
 "metadata": {
  "kernelspec": {
   "display_name": "Python 3",
   "language": "python",
   "name": "python3"
  },
  "language_info": {
   "codemirror_mode": {
    "name": "ipython",
    "version": 3
   },
   "file_extension": ".py",
   "mimetype": "text/x-python",
   "name": "python",
   "nbconvert_exporter": "python",
   "pygments_lexer": "ipython3",
   "version": "3.7.3"
  }
 },
 "nbformat": 4,
 "nbformat_minor": 2
}
