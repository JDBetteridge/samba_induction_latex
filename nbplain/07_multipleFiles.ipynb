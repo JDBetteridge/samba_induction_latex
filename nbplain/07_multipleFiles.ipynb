{
 "cells": [
  {
   "cell_type": "markdown",
   "metadata": {},
   "source": [
    "# Handling Multiple Files"
   ]
  },
  {
   "cell_type": "markdown",
   "metadata": {},
   "source": [
    "## Overview:\n",
    "- **Teaching:** 20 min\n",
    "- **Exercises:** 0 min\n",
    "\n",
    "**Objectives**\n",
    "- Understand how `\\input` and `\\include` work\n",
    "- Understand how to break a large project into multiple files"
   ]
  },
  {
   "cell_type": "markdown",
   "metadata": {},
   "source": [
    "## Introduction\n",
    "\n",
    "For a paper or maybe even a short report, it is normally fairy easy to have a single source file (`.tex`) and an external bibliography (`.bib`) that it links to.\n",
    "This source file will tend to be fairly short, even with the sectioning and potential preamble with custom macros defined.\n",
    "Things get difficult to handle when you come to thinking about writing books, a thesis, or technical documentation for code - your source file will start to bloat in size, and will become unwieldy to use.\n",
    "What's more; the documents that you find yourself writing will normally share some common notation and conventions, and you don't want to have to go to the hassle of inserting any additional macros or importing commonly used packages each time.\n",
    "\n",
    "### Divide and Conquer\n",
    "\n",
    "When you have to write a long document, the best plan is a divide-and-conquer approach.\n",
    "Rather than writing every chapter (and all your macro definitions) in the original source file; why not instead write each chapter as a separate file, and then link these files together?\n",
    "This is the approach we can going to demonstrate in this lesson; we will show how to link files containing snippets of source code together, and how to get $\\LaTeX$ to compile them and produce a single output document."
   ]
  },
  {
   "cell_type": "markdown",
   "metadata": {},
   "source": [
    "## Setup+:\n",
    "\n",
    "This lesson is largely a show-and-tell on our part, so we have provided a self-contained folder with all the files that we will require which you can get [from this link](../data/MultipleFilesExample.zip).\n",
    "\n",
    "After extracting the files in the`.zip` folder, you should end up with a directory structure that looks like this:"
   ]
  },
  {
   "cell_type": "markdown",
   "metadata": {},
   "source": [
    "![Multiple Files Directory Structure](../images/MultipleFilesDirectoryStructure.png)"
   ]
  },
  {
   "cell_type": "markdown",
   "metadata": {},
   "source": [
    ":Setup+"
   ]
  },
  {
   "cell_type": "markdown",
   "metadata": {},
   "source": [
    "## `main_file.tex`\n",
    "\n",
    "Compile the file `main_file.tex` using the 3-step $\\LaTeX$, BibTeX, $\\LaTeX$ technique to ensure that the internal references sort themselves out correctly, and take a look at the output file `main_file.pdf`.\n",
    "It (should!) consist of a book containing two short chapters - one just posing a question and showing an image, and the second chapter detailing the answer to the question.\n",
    "All in all, it seems a fairly standard document.\n",
    "\n",
    "However if you look at the source code for `main_file.tex`, you might be surprised to see it's *really* quite short:\n",
    "```latex\n",
    "\\documentclass[10pt,a4paper]{book}\n",
    "\n",
    "\\input{./preamble/preamble_maths}\n",
    "\n",
    "\\input{./preamble/preamble_images}\n",
    "\n",
    "\\begin{document}\n",
    "\n",
    "\\include{./chapters/chapter1}\n",
    "\n",
    "\\include{./chapters/chapter2}\n",
    "\n",
    "\\end{document}\n",
    "```\n",
    "\n",
    "In actual fact, `main_file.tex` is simply pulling in $\\LaTeX$ syntax from the other 4 `.tex` files that are scattered thoughout the various folders.\n",
    "\n",
    "### `\\input` and `\\include`\n",
    "\n",
    "You should also notice that there are two commands here that you haven't seen before; `\\input` and `\\include`.\n",
    "These are the commands that are pulling in information from other `.tex` files, and dumping them into `main_file.tex`.\n",
    "What these commands are actually doing is finding the files they are told to, then effectively \"copy and pasting\" exactly what's in those files directly into `main_file.tex`.\n",
    "This is why, if you look at any of the files in the `chapters` or `preamble` folders, they don't have a `\\documentclass` or `\\begin{document}` - it's because that is done inside `main_file.tex`, and the other files simply hold the content (and syntax) we want to import into our master file.\n",
    "\n",
    "Before the `\\begin{document}`, we have to use the `\\input` command to pull in files.\n",
    "After the `\\begin{document}`, you can use either, although `\\include` is normally the best choice.\n",
    "Both of these commands work in the same way - they take one argument, which is the path to the file you want the content of.\n",
    "\n",
    "The argument for both of these commands is the path to the file that you want to include, from the path that you have the `\\input` or `\\include` command in.\n",
    "In this case, our `\\inputs` and `\\includes` are in `main_file.tex`.\n",
    "The `\\input{preamble/preamble_maths}` command for example, works from the directory `main_file.tex` is in, goes into the `preamble` folder, and extracts the contents of the file `preamble_maths.tex` that lives there."
   ]
  },
  {
   "cell_type": "markdown",
   "metadata": {},
   "source": [
    "## Information: `\\input` vs `\\include`\n",
    "\n",
    "You might be wondering why bother to have the command `\\include` if `\\input` can be used in it's place and more.\n",
    "The answer itself is quite technical, and one has to be familiar with the details of how the compiling process works.\n",
    "There is a fairly good [stackExchange answer here](https://tex.stackexchange.com/questions/246/when-should-i-use-input-vs-include), which explains that the key differences are:\n",
    "- `\\include` is faster due to how it works in the compiling process. This is useful if you are only editing one chapter at a time - you don't have to recompile all your chapters at once.\n",
    "- `\\include` can't be nested; you can't `\\include` a file that aleady has an `\\include` command in it.\n",
    "- `\\include` forces a new page to start in your document whenever it is called."
   ]
  },
  {
   "cell_type": "markdown",
   "metadata": {},
   "source": [
    "## The Preamble Files\n",
    "\n",
    "Let's now take a look at the files in the `preamble` folder.\n",
    "If you completed the [previous lesson on macros](06_macros.ipynb), then you'll know that macros are very useful for standardising your notation and formatting.\n",
    "But a long report or book is going to result in a lot of notation and formatting conventions, and manually typing these out in `main_file.tex` will make it cumbersome.\n",
    "You'll also likely start wondering which packages introduce which functions; is it `amsmath` or `amssymb` that brings in `\\mathbb`, for example?\n",
    "You might not need one of these packages after editing, but could still be including it because you haven't realised you're not using any of it's commands.\n",
    "In addition, you might be writting several reports or papers over the course of your degree/PhD/academic career on similar topics, and will want the same notation throughout.\n",
    "\n",
    "The ethos behind the `preamble` folder is that it contains the files that define all our custom macros for these purposes - having one \"global\" master file that we can import is much easier than typing out everything manually each time, and leaving it in `main_file.tex`.\n",
    "You'll notice that `preamble_maths` contains our custom maths-environment commands, including `\\bracs` from before, alongside some macros for writing some common sets, like that of the natural numbers."
   ]
  },
  {
   "cell_type": "markdown",
   "metadata": {},
   "source": [
    "### Information: `preamble_images`\n",
    "\n",
    "The `preamble_images` file is a short one, consisting of one package import (`graphicx`, which as we saw in [lesson 4](04_pictures.ipynb) handles images and figures for us) and then one command, `\\graphicspath`.\n",
    "\n",
    "This command is called by <br />\n",
    "`\\graphicspath{ {path_to_images } }` <br />\n",
    "and takes one argument `path_to_images`, which should be a directory-path to a folder containing the images that you're going to use in the document.\n",
    "Then later in the document when you want to include an image, you don't need to include the path to the image in the `\\includegraphics` command, just the file name.\n",
    "You can have multiple folders containing your images, and can make `graphicx` aware of this my using the general command <br />\n",
    "`\\graphicspath{ {path1}, {path2}, ..., {pathN} }` <br />\n",
    "for each of the $N$ image folders you have.\n",
    "\n",
    "If the path is relative, it should be a relative path from the main `.tex` file you are compiling.\n",
    "In our case we are compiling `main_file.tex`, so the path to the `images` folder is `./images/` - despite the fact that to get from `preamble_images.tex` to the `images` folder would use the path `../images/`.\n",
    "For a document as small as the example one, having an image preamble is overkill because we only have one command that we want to apply to all our figures (and the other line just imports the package that we need to do this).\n",
    "However in larger documents you may have other formatting options for figures that you want to apply across the board (default alignments, position above footnotes, padding around images, etc) which you would set in this file.\n",
    "Furthermore, if you end up using a drawing package like [`tikz`](https://www.overleaf.com/learn/latex/TikZ_package) in your work, you'll probably be setting up `tikz` in this file too."
   ]
  },
  {
   "cell_type": "markdown",
   "metadata": {},
   "source": [
    "## The Chapter Files\n",
    "\n",
    "The files in the `chapters` folder are written as though they were directly inserted into `main_file.tex` - this is why you won't find a `\\documentclass` or `\\begin{document}` in them.\n",
    "You should also realise that we can still use $\\LaTeX$ commands that we import from our preamble files:\n",
    "- We can create a figure in `chapter1.tex` using `graphicx`, and don't need to give the full path to the image file. Both of these due to the commands in `preamble_images.tex`.\n",
    "- We can still use our custom macros that we created using `\\newcommand`, like those in `preamble_maths.tex` - you can see that we use `\\bracs` in a few places, as well as the custom `\\reicp` command is.\n",
    "\n",
    "Armed with this understanding, there isn't a whole lot more to the chapter files - simply begin typing your source code as you normally would!"
   ]
  },
  {
   "cell_type": "markdown",
   "metadata": {},
   "source": [
    "## Key Points:\n",
    "- We can use `\\input` and `\\include` to insert the contents of other files into another `.tex` file.\n",
    "- We can organise the files that consistute a document into several folders to help with organisation.\n",
    "- We can write preamble files so that commands we define are usable on other projects."
   ]
  }
 ],
 "metadata": {
  "kernelspec": {
   "display_name": "Python 3",
   "language": "python",
   "name": "python3"
  },
  "language_info": {
   "codemirror_mode": {
    "name": "ipython",
    "version": 3
   },
   "file_extension": ".py",
   "mimetype": "text/x-python",
   "name": "python",
   "nbconvert_exporter": "python",
   "pygments_lexer": "ipython3",
   "version": "3.7.3"
  }
 },
 "nbformat": 4,
 "nbformat_minor": 2
}
