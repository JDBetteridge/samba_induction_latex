{
 "cells": [
  {
   "cell_type": "markdown",
   "metadata": {
    "slideshow": {
     "slide_type": "slide"
    }
   },
   "source": [
    "# Referencing"
   ]
  },
  {
   "cell_type": "markdown",
   "metadata": {
    "slideshow": {
     "slide_type": "slide"
    }
   },
   "source": [
    "## Overview:\n",
    "- **Teaching:** 15 min\n",
    "- **Exercises:** 0 min\n",
    "\n",
    "**Objectives**\n",
    "- To insert inline citations and a bibliography to your $\\LaTeX$ documents\n",
    "- To manage references and bibliography construction via BibTeX"
   ]
  },
  {
   "cell_type": "markdown",
   "metadata": {},
   "source": [
    "## Referencing in Scientific Documents\n",
    "\n",
    "The references that you include in your scientific work are of central importantance; they can serve to provide background and introductory/ learning material for your subject area, as motivation for exploring the topic of your document itself, or support the results of your work either numerically or theoretically.\n",
    "Needless to say, it is important to include references in your work and to manage your sources carefully.\n",
    "We aren't going to go into the details of how to reference professionally (in the sense of writing a document) here, instead we are going to show you how you can use $\\LaTeX$ to manage your external sources and include citations in your work."
   ]
  },
  {
   "cell_type": "markdown",
   "metadata": {},
   "source": [
    "## Setup\n",
    "\n",
    "If you haven't already got a $\\LaTeX$ source file to hand that you don't mind editing for the purposes of this lesson, you can download our [source code from the previous lesson here](../data/images_example_tex.tex)."
   ]
  },
  {
   "cell_type": "markdown",
   "metadata": {
    "slideshow": {
     "slide_type": "slide"
    }
   },
   "source": [
    "## Information: Out-of-the-box referencing\n",
    "\n",
    "$\\LaTeX$ supports embedding references in your source file and then creating a bibliography from those references.\n",
    "Standard bibliography commands in $\\LaTeX$ have a similar syntax to that of lists and items.\n",
    "\n",
    "```latex\n",
    "\\documentclass{article}\n",
    "\n",
    "\\begin{document}\n",
    "\n",
    "This is an example of including bibliographies in your document. You can cite a paper by using the \\textit{$\\backslash$cite} command. \\cite{knuthwebsite}\n",
    "\n",
    "\\bibliographystyle{unsrt}\n",
    "\n",
    "\\begin{thebibliography}{9}\n",
    "\\bibitem{latexcompanion} \n",
    "Michel Goossens, Frank Mittelbach, and Alexander Samarin. \n",
    "\\textit{The \\LaTeX\\ Companion}. \n",
    "Addison-Wesley, Reading, Massachusetts, 1993.\n",
    " \n",
    "\\bibitem{einstein} \n",
    "Albert Einstein. \n",
    "\\textit{Zur Elektrodynamik bewegter K{\\\"o}rper}. (German) \n",
    "[\\textit{On the electrodynamics of moving bodies}]. \n",
    "Annalen der Physik, 322(10):891–921, 1905.\n",
    " \n",
    "\\bibitem{knuthwebsite} \n",
    "Knuth: Computers and Typesetting,\n",
    "\\\\\\texttt{http://www-cs-faculty.stanford.edu/\\~{}uno/abcde.html}\n",
    "\\end{thebibliography}\n",
    "\n",
    "\\end{document}\n",
    "```\n",
    "\n",
    "The environment `thebibliography` produces a list of references.\n",
    "Depending on the `\\bibliographystyle`, the format of the citation in the text and in the bibliography/ reference list will change. \n",
    "A popular style is `unsrt` which numbers references as they appear in the text displaying this in the citation as a parameter inside braces.\n",
    "A list of different bibliography styles can be found [on Overleaf](https://www.overleaf.com/learn/latex/Bibtex_bibliography_styles).\n",
    "\n",
    "The `9` in `\\begin{thebibliography}{9}` provides an upper bound to the number of references in the document. \n",
    "This should be \"the greatest power of 10, -1\" that you can safely estimate; so should be 9 if you expect less than 10 references, 99 if you expect more than 10 and less than 100, etc.\n",
    "Although if you're at the point when you have $>5$ references, chances are you want to be using an external bibliography as we recommend in this lesson!\n",
    "\n",
    "To create a bibliography entry the command `\\bibitem` is used. \n",
    "A parameter inside braces is set to label this entry and can later be used as identifier for this reference, similarly to the way we give labels to equations, figures, and sections. \n",
    "After the closing brace the information about the reference is entered; name of the author, book title, publisher, etc.\n",
    "In this example, we cite the website at the end of the sentence using the command `\\cite{knuthwebsite}`, which will automatically insert a citation into the document at the point the `\\cite` command is called."
   ]
  },
  {
   "cell_type": "markdown",
   "metadata": {},
   "source": [
    "## Bibliography management with Bibtex\n",
    "\n",
    "Whilst it is possible to create a bibliograhy within your document's source file, there are several inconveniences with doing this:\n",
    "- It’s up to you to accurately format each `\\bibitem` based on the reference style you’re asked to use\n",
    "- If you need the reference list to be sorted by the last names of first authors, you have to sort the `\\bibitems` yourself\n",
    "- If you have different documents that use the same references, you have to re-enter this information at the end of _every one of them_!\n",
    "\n",
    "BibTeX is a helpful bibliography management tool which helps us overcome some of these problems.\n",
    "Rather than writing bibliography entries in the source file, we will keep them in a separate file and ask BibTeX to handle the creation of our bibliography.\n",
    "The first thing we need to do is create a bibliography file, which is a file containing text and having the extension `.bib` (like how our source file is contains text and has the extension `.tex` so it can be interpretted by $\\LaTeX$).\n",
    "\n",
    "### The bibliography file\n",
    "\n",
    "References are kept in a bibliography file whose extension is `.bib`, and this file consists of a list of records and fields. \n",
    "Each bibliography record holds relevant information for a single reference - a book, article, website, etc. \n",
    "The fields of a given record hold the information like author, title, published date, and the like.\n",
    "\n",
    "First, let's create a bibliography file which includes some references for our main document.\n",
    "\n",
    "**NOTE:** Like with the images you want to include in your document, you should save your `.bib` file to the same directory as your source `.tex` file.\n",
    "If you are familar with paths, you can ignore this advice and insert the path to the `.bib` file like we described with images."
   ]
  },
  {
   "cell_type": "markdown",
   "metadata": {},
   "source": [
    "`MagicalThesisBib.bib` is our bibliography and it looks like this:\n",
    "\n",
    "```latex\n",
    "@book{rowling2001fantastic,\n",
    "  title={Fantastic Beasts and Where to Find Them},\n",
    "  author={Rowling, J. K.},\n",
    "  year={2001},\n",
    "  publisher={Bloomsbury}\n",
    "}\n",
    " \n",
    "@book{lewis2001chronicles,\n",
    "  title={The Chronicles of Narnia},\n",
    "  author={Lewis, Clive Staples},\n",
    "  year={2001},\n",
    "  publisher={Harper Collins}\n",
    "}\n",
    "\n",
    "@book{tolkien2012lord,\n",
    "  title={The Lord of the Rings: One Volume},\n",
    "  author={Tolkien, John Ronald Reuel},\n",
    "  year={2012},\n",
    "  publisher={Houghton Mifflin Harcourt}\n",
    "}\n",
    "\n",
    "@article{graham2019anatomy,\n",
    "    author = {Graham, William M.},\n",
    "    title = {Anatomy of Magical Beasts},\n",
    "    journal = {Magical Enquires of Muggles},\n",
    "    volume = {134},\n",
    "    number = {10},\n",
    "    pages = {1--2572},\n",
    "    year = {2019},\n",
    "    DOI = {\"http://dx.doi.org/some_relevant_numbers}\n",
    "}\n",
    "```"
   ]
  },
  {
   "cell_type": "markdown",
   "metadata": {},
   "source": [
    "## Information: Our Bibliography\n",
    "\n",
    "You can [download our bibliography here](../data/referencing_example_bib.bib), if you don't want to make your own.\n",
    "In general, most articles and journals that are available online will provide BibTeX citations in the correct syntax on the article/journal website.\n",
    "References for books can normally be found similarly, or by searching for the article, book, or website via a tool like Google Scholar which can generate the references in BibTeX format for you.\n",
    "However if you obtain the reference information from anywhere other than the offical source, you should cross-check the information in the fields before using it."
   ]
  },
  {
   "cell_type": "markdown",
   "metadata": {},
   "source": [
    "`MagicalThesisBib.bib` contains records in a special format.\n",
    "There are many different _types_ of record you can include, but here we have only included the two most common:\n",
    "- `@article{}` : For journal articles or arXiv pre-prints.\n",
    "- `@book{}` : For textbooks.\n",
    "\n",
    "Notice that records are started with the `@` symbol and not a backslash as in the main `.tex` document.\n",
    "The `@article{...}` syntax itself tells BibTeX that this record is an article, and so can only contain fields corresponding to articles.\n",
    "Fields are set using their keywords, followed by an `=` and then putting the value of the field in curly braces `{ }`.\n",
    "Fields are separated by commas (see the ends of the lines above) - line breaks are not necessary but they make everything look a lot nicer!\n",
    "The syntax\n",
    "```\n",
    "title = {Anatomy of Magical Beasts}\n",
    "```\n",
    "sets the value of the `title` field to \"Anatomy of Magical Beasts\", for example.\n",
    "\n",
    "Each record has a list of _required_ and _optional_ fields.\n",
    "BibTeX will complain to you if you do not provide a value for a _required_ field in a record, but will ignore any mising optional fields.\n",
    "When generating your bibliography, BibTeX will by default include as much information as you provide it, which might mean that some references print differently in the document (even if they are of the same record type) because optional information has been provided for one."
   ]
  },
  {
   "cell_type": "markdown",
   "metadata": {},
   "source": [
    "## Putting the Bibliography in the Document\n",
    "\n",
    "Once we have created a bibliography file, we need to link it to the source `.tex` file using the command `\\bibliography{bib_file}`.\n",
    "Replace `bib_file` withe the name of your bibliography, of course.\n",
    "If you are using a local editor, you might even get away with not including the `.bib` extension in the filename, but it's always safer to include it.\n",
    "\n",
    "**NOTE:** If you didn't save the `.bib` file to the same directory as your `.tex` file, this is where you will need to include the path to the file too.\n",
    "\n",
    "We also need to provide a `\\bibliographystyle` so that BibTeX knows how to format our references for us - in this lesson we'll stick with the `unsrt` style.\n",
    "Below is a minimum working example:\n",
    "\n",
    "```latex\n",
    "\\documentclass{article}\n",
    "\n",
    "\\begin{document}\n",
    "There are several magical animals that are yet undiscovered \\cite{rowling2001fantastic} that could provide huge boons to our everyday lifestyle and working environment.\n",
    "Oliphaunts \\cite{tolkien2012lord} have the potential to eliminate the need for heavy construction machinery and heavy-goods transport, and provide little to no air pollution as an additional benefit.\n",
    "Indeed, we can even predict the resulting pattern in the concentration of carbon dioxide in the atmosphere ($c_{atm}$) on a timescale of years ($t$) after this switch:\n",
    "\\begin{equation} \\label{eq:CO2Reduction}\n",
    "    c_{atm} = c_{0} e^{-\\sigma t},\n",
    "\\end{equation}\n",
    "where $c_{0}$ is the current concentration of carbon dioxide in the atmosphere and $\\sigma>0$ is the so-called ``Oliphaunt efficiency coefficient\". \\newline\n",
    "\n",
    "Phoenixes, with their healing ability and ease of flight, could effectively act quickly to prevent disaster in environmental crises.\n",
    "Indeed these remarkable healing properties were discussed in a recent work \\cite{graham2019anatomy} which hypothesised how such an ability could have developed through the process of evolution.\n",
    "\n",
    "\\bibliographystyle{unsrt}\n",
    "\\bibliography{MagicalThesisBib.bib}\n",
    "\n",
    "\\end{document}\n",
    "```"
   ]
  },
  {
   "cell_type": "markdown",
   "metadata": {
    "slideshow": {
     "slide_type": "slide"
    }
   },
   "source": [
    "Important things to note are that we include the two bibliography commands inside the `document` environment, that is not in the preamble.\n",
    "When you render/ compile the `.tex` file you should notice a list of references inserted at the end of the document, and your `cite` commands should be replaced by the appropriate reference number that `BibTeX` has assigned to each record.\n",
    "\n",
    "**NOTE:** If you are using a local editor, you may need to tell it to render/ compile the `.tex` file multiple times, first with $\\LaTeX$, then BibTeX (or BibLaTeX), then $\\LaTeX$ again.\n",
    "\n",
    "Other useful features of using BibTeX to handle our sources include:\n",
    "- If we move references around in the file, the numbering will automatically adjust.\n",
    "- Records in our bibliography file that are not referenced in the `.tex` file are automatically omitted from the bibliography. This means that you can have (in theory) one master `.bib` file which you use for all your documents!\n",
    "- Changing the `\\bibliographystyle` will automatically reformat the reference list, and the appearance of the inline citations (`\\cite` commands)."
   ]
  },
  {
   "cell_type": "markdown",
   "metadata": {},
   "source": [
    "## Information: Source Code\n",
    "\n",
    "You can [download our bibligraphy file here](../data/referencing_examples_bib.bib) if you would like to use it yourself.\n",
    "Furthermore, we also provide [this file](../data/referencing_example_tex.tex) which is a `.tex` file that contains working examples of BibTeX citations in action (using the aforementioned `.bib` file).\n",
    "This file also combines everything you have seen in the previous 3 lessons, so covers sections, figures, internal cross-referencing and referencing external sources via BibTeX."
   ]
  },
  {
   "cell_type": "markdown",
   "metadata": {},
   "source": [
    "## Key points:\n",
    "\n",
    "- `Bibtex` is a helpful bibliography management tool.\n",
    "- We provide all our references in an external `.bib` file.\n",
    "- We link our `.tex` file to the `.bib` file using the command `\\bibliography`.\n",
    "- We can change the format of our citations and bibliography using the `\\bibliographystyle` command.\n",
    "\n",
    "\n",
    "### End of Introductory Lesssons\n",
    "\n",
    "This lesson concludes the introductory lessons for $\\LaTeX$; having covered everything you need to begin writing professional documents using $\\LaTeX$ and BibTeX.\n",
    "We also provide two futher lessons on some more advanced topics:\n",
    "- [Stylefiles](06_stylefile.ipynb) : Which can be used to set a template for the layout of all the documents you produce, and are often provided by journals upon submission of your work.\n",
    "- [Beamer](07_beamer.ipynb) : How to use the `beamer` package to create slide shows and posters in $\\LaTeX$.\n",
    "\n",
    "The \"NEXT\" button below will take you to the stylefile lesson.\n",
    "Press \"SCHEDULE\" to return to the contents page for these lessons."
   ]
  }
 ],
 "metadata": {
  "anaconda-cloud": {},
  "celltoolbar": "Slideshow",
  "kernelspec": {
   "display_name": "Python 2",
   "language": "python",
   "name": "python2"
  },
  "language_info": {
   "codemirror_mode": {
    "name": "ipython",
    "version": 2
   },
   "file_extension": ".py",
   "mimetype": "text/x-python",
   "name": "python",
   "nbconvert_exporter": "python",
   "pygments_lexer": "ipython2",
   "version": "2.7.15+"
  }
 },
 "nbformat": 4,
 "nbformat_minor": 2
}
