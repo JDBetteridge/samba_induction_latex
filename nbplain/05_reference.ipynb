{
 "cells": [
  {
   "cell_type": "markdown",
   "metadata": {
    "slideshow": {
     "slide_type": "slide"
    }
   },
   "source": [
    "# Reference"
   ]
  },
  {
   "cell_type": "markdown",
   "metadata": {
    "slideshow": {
     "slide_type": "slide"
    }
   },
   "source": [
    "## Overview:\n",
    "- **Teaching:** 15 min\n",
    "- **Exercises:** 0 min\n",
    "\n",
    "**Objectives**\n",
    "- able to construct bibliographies and cite reference in your document"
   ]
  },
  {
   "cell_type": "markdown",
   "metadata": {
    "slideshow": {
     "slide_type": "slide"
    }
   },
   "source": [
    "$\\LaTeX$ supports bibliographies out of the box, either embedding the references in your document or storing them in an external file. Standard bibliography commands in $\\LaTeX$ have a similar syntax to that of lists and items."
   ]
  },
  {
   "cell_type": "markdown",
   "metadata": {},
   "source": [
    "$\\textbf{Input:}$\n",
    "\n",
    "```latex\n",
    "\\documentclass{article}\n",
    "\n",
    "\\begin{document}\n",
    "\n",
    "This is an example of including bibliographies in your document. You can cite a paper by using the \\textit{$\\backslash$cite} command. \\cite{knuthwebsite}\n",
    "\n",
    "\\begin{thebibliography}{9}\n",
    "\\bibitem{latexcompanion} \n",
    "Michel Goossens, Frank Mittelbach, and Alexander Samarin. \n",
    "\\textit{The \\LaTeX\\ Companion}. \n",
    "Addison-Wesley, Reading, Massachusetts, 1993.\n",
    " \n",
    "\\bibitem{einstein} \n",
    "Albert Einstein. \n",
    "\\textit{Zur Elektrodynamik bewegter K{\\\"o}rper}. (German) \n",
    "[\\textit{On the electrodynamics of moving bodies}]. \n",
    "Annalen der Physik, 322(10):891–921, 1905.\n",
    " \n",
    "\\bibitem{knuthwebsite} \n",
    "Knuth: Computers and Typesetting,\n",
    "\\\\\\texttt{http://www-cs-faculty.stanford.edu/\\~{}uno/abcde.html}\n",
    "\\end{thebibliography}\n",
    "\n",
    "\n",
    "\\end{document}\n",
    "```"
   ]
  },
  {
   "cell_type": "markdown",
   "metadata": {},
   "source": [
    "The environment `thebibliography` produces a list of references; such list will be titled \"References\" in a article document class, and \"Bibliography\" in book and report document classes. A parameter inside braces, `9` in the example indicates the widest label expected in the list. If you use numeric labels, then the argument should be a single digit (9 is commonly used) if there are less than ten items; two digits (commonly 99) if there are from 10 to 99 items and so on.\n",
    "\n",
    "To create a bibliography entry the command `\\bibitem` is used. A parameter inside braces is set to label this entry and can later be used as identifier for this reference. After the closing brace the text with the name of the author, the book title, publisher and so on is entered.\n",
    "\n",
    "In this example, we cite the website at the end of the sentence using the command `\\cite{knuthwebsite}`. This command will print a number of text, depending on the bibliography style, to reference the bibliography entry whose label is passed to the command. In this case, the label `knuthwebsite` produces."
   ]
  },
  {
   "cell_type": "markdown",
   "metadata": {},
   "source": [
    "## Bibliography management with Bibtex\n",
    "Now you should be able to create a bibliography by creating a 'list' at the end  of your document. However, there are some inconveniences with manually preparing the thebibliography list:\n",
    "- It’s up to you to accurately format each \\bibitem based on the reference style you’re asked to use\n",
    "- If you need the reference list to be sorted by the last names of first authors, you have to sort the \\bibitems yourself\n",
    "- when you have different documents that use different reference styles, things get messy\n",
    "\n",
    "Instead, a more convenient way to include bibography is to use bibliography management tool. In the rest of this episode, we will look at the widely used `BibTeX`. Rather than writing bibliography entries in the main .tex file, we will keet them in a separate file. \n",
    "\n",
    "The bibliography file\n",
    "Bibliographic references are usually kept in a bibliography file whose extension is .bib, this file consists of a list of records and fields. Each bibliography record holds relevant information for a single entry. Let's firstly create a bibliography file including all your bibliography entries. The `sample.bib` file should be put in the path as your main document."
   ]
  },
  {
   "cell_type": "markdown",
   "metadata": {},
   "source": [
    "sample.bib\n",
    "\n",
    "```latex\n",
    "@article{einstein,\n",
    "    author =       \"Albert Einstein\",\n",
    "    title =        \"{Zur Elektrodynamik bewegter K{\\\"o}rper}. ({German})\n",
    "        [{On} the electrodynamics of moving bodies]\",\n",
    "    journal =      \"Annalen der Physik\",\n",
    "    volume =       \"322\",\n",
    "    number =       \"10\",\n",
    "    pages =        \"891--921\",\n",
    "    year =         \"1905\",\n",
    "    DOI =          \"http://dx.doi.org/10.1002/andp.19053221004\"\n",
    "}\n",
    " \n",
    "@book{latexcompanion,\n",
    "    author    = \"Michel Goossens and Frank Mittelbach and Alexander Samarin\",\n",
    "    title     = \"The \\LaTeX\\ Companion\",\n",
    "    year      = \"1993\",\n",
    "    publisher = \"Addison-Wesley\",\n",
    "    address   = \"Reading, Massachusetts\"\n",
    "}\n",
    " \n",
    "@misc{knuthwebsite,\n",
    "    author    = \"Donald Knuth\",\n",
    "    title     = \"Knuth: Computers and Typesetting\",\n",
    "    url       = \"http://www-cs-faculty.stanford.edu/\\~{}uno/abcde.html\"\n",
    "}\n",
    "```"
   ]
  },
  {
   "cell_type": "markdown",
   "metadata": {},
   "source": [
    "This file contains records in a special format, for instance, the first bibliographic reference is defined by:\n",
    "\n",
    "`@article{...}`: This is the first line of a record entry, @article denotes the entry type and tells BibTeX that the information stored here is about an article. Besides the entry types shown in the example (article, book and misc) there are a lot more, see the reference guide.\n",
    "\n",
    "`einstein`: The label einstein is assigned to this entry, is an identifier that can be used to refer this article within the document.\n",
    "\n",
    "`author = \"Albert Einstein\"`: This is the first field in the bibliography entry, indicates that the author of this article is Albert Einstein. Several comma-separated fields can be added using the same syntax key = value, for instance: title, pages, year, URL, etc. See the reference guide for a list of possible fields.\n",
    "\n",
    "The information in this file can later be used within a LATEX document to include these references, as shown in the following."
   ]
  },
  {
   "cell_type": "markdown",
   "metadata": {
    "slideshow": {
     "slide_type": "slide"
    }
   },
   "source": [
    "$\\textbf{Input:}$\n",
    "\n",
    "```latex\n",
    "\\documentclass{article}\n",
    "\\usepackage{biblatex}\n",
    "\\addbibresource{sample.bib}\n",
    "\n",
    "\\begin{document}\n",
    "\n",
    "This is an example of including bibliographies in your document. You can cite a paper by using the \\textit{$\\backslash$cite} command \\cite{knuthwebsite}. Try to add more citations in your document to see how does BibTex automatically numbers references for you.\n",
    "\n",
    "\\printbibliography\n",
    "\n",
    "\\end{document}\n",
    "```"
   ]
  },
  {
   "cell_type": "markdown",
   "metadata": {},
   "source": [
    "There are four bibliography-related commands in this example:\n",
    "\n",
    "`\\usepackage{biblatex}`: Imports the package biblatex.\n",
    "\n",
    "`\\addbibresource{sample.bib}`: Imports the bibtex data file sample.bib, this file is the one that includes information about each referenced book, article, etc. \n",
    "\n",
    "`\\cite{einstein}`: This command inserts a reference within the document, [1] in this case, that corresponds to an element in the bibliography, \"einstein\" is a keyword corresponding to an entry in sample.bib.\n",
    "\n",
    "`\\printbibliography`: Prints the list of cited references, the default title is \"References\" for the article document class and \"Bibliography\" for books and reports.\n"
   ]
  },
  {
   "cell_type": "markdown",
   "metadata": {},
   "source": [
    "## Key points:\n",
    "- use bibliography management tool `Bibtex` to add bibliograpy to your documents"
   ]
  }
 ],
 "metadata": {
  "celltoolbar": "Slideshow",
  "kernelspec": {
   "display_name": "Python 2",
   "language": "python",
   "name": "python2"
  },
  "language_info": {
   "codemirror_mode": {
    "name": "ipython",
    "version": 2
   },
   "file_extension": ".py",
   "mimetype": "text/x-python",
   "name": "python",
   "nbconvert_exporter": "python",
   "pygments_lexer": "ipython2",
   "version": "2.7.16"
  }
 },
 "nbformat": 4,
 "nbformat_minor": 2
}
