{
 "cells": [
  {
   "cell_type": "markdown",
   "metadata": {
    "slideshow": {
     "slide_type": "slide"
    }
   },
   "source": [
    "# Pictures"
   ]
  },
  {
   "cell_type": "markdown",
   "metadata": {
    "slideshow": {
     "slide_type": "slide"
    }
   },
   "source": [
    "## Overview:\n",
    "- **Teaching:** 20 min\n",
    "- **Exercises:** 0 min\n",
    "\n",
    "**Objectives**\n",
    "- Understand how to add pictures to your document "
   ]
  },
  {
   "cell_type": "markdown",
   "metadata": {
    "slideshow": {
     "slide_type": "slide"
    }
   },
   "source": [
    "Images are essential elements in most of the scientific documents. $\\LaTeX$ provides several options to handle images and make them look exactly what you need. In this episode, we will look at how to include images in the most common formats, how to shrink, enlarge and rotate them, and how to reference them within your document."
   ]
  },
  {
   "cell_type": "markdown",
   "metadata": {},
   "source": [
    "## Get started\n",
    "\n",
    "Below is a example on how to import a picture. Before the code can run correctly, you need to firstly upload the picture to overleaf by clicking the upload buttom on the top of the left-end coloum."
   ]
  },
  {
   "cell_type": "markdown",
   "metadata": {},
   "source": [
    "$\\textbf{Input:}$\n",
    "\n",
    "```latex\n",
    "\\documentclass{article}\n",
    "\\usepackage{graphicx}\n",
    "\\graphicspath{}\n",
    " \n",
    "\\begin{document}\n",
    "A picture of Donald Knuth, creator of $\\LaTeX$, playing the organ.\n",
    " \n",
    "\\includegraphics[scale = 0.5]{knuth.jpg}\n",
    " \n",
    "\\end{document}\n",
    "```"
   ]
  },
  {
   "cell_type": "markdown",
   "metadata": {},
   "source": [
    "Latex can not manage images by itself, so we need to use the graphicx package. To use it, we include the following line in the preamble: `\\usepackage{graphicx}`\n",
    "\n",
    "The command `\\graphicspath{}` tells LATEX that the images are kept in a folder named images under the directory of the main document. The default searching path is where your code exists. If your pitctures are stored in a different palce, say a folder called Images, you should specify the path via `\\graphicspath{./Images/}`, where `./` denoting the main .tex file directory.\n",
    "\n",
    "The `\\includegraphics{knuth}` command is the one that actually included the image in the document. Here knuth is the name of the file containing the image without the extension. The file name of the image should not contain white spaces nor multiple dots. \n",
    "\n",
    "The extra parameter `scale=0.5` following `\\includegraphics{knuth}` scales the image 0.5 of its real size.\n"
   ]
  },
  {
   "cell_type": "markdown",
   "metadata": {},
   "source": [
    "# Changing the image size and rotating the picture\n",
    "\n",
    "You have seen that it is possible to change the size of pictures via the `scale` parameter following by the `\\includegraphics`. If we want to further specify how LATEX should include our image in the document (length, height, etc), we can pass those settings in the following format:"
   ]
  },
  {
   "cell_type": "markdown",
   "metadata": {},
   "source": [
    "$\\textbf{Input:}$\n",
    "```latex\n",
    "\\documentclass{article}\n",
    "\\usepackage{graphicx}\n",
    "\\graphicspath{}\n",
    " \n",
    "\\begin{document}\n",
    "A picture of Donald Knuth, creator of $\\LaTeX$, playing the organ.\n",
    " \n",
    "\\includegraphics[width = 3cm, height = 3cm]{knuth.jpg}\n",
    "\\end{document}\n",
    "```"
   ]
  },
  {
   "cell_type": "markdown",
   "metadata": {},
   "source": [
    "The parameters inside the brackets `width=3cm, height=3cm` define the width and the height of the picture. You can use different units for these parameters. If only the width parameter is passed, the height will be scaled to keep the aspect ratio.\n",
    "\n",
    "The length units can also be relative to some elements in document. For instance, choosing `width = \\textwidth` makes your picture the same width as the text. Instead of \\textwidth you can use any other default LATEX length: \\columnsep, \\linewidth, \\textheight, \\paperheight, etc. "
   ]
  },
  {
   "cell_type": "markdown",
   "metadata": {},
   "source": [
    "$\\textbf{Input:}$\n",
    "```latex\n",
    "\\documentclass{article}\n",
    "\\usepackage{graphicx}\n",
    "\\graphicspath{}\n",
    " \n",
    "\\begin{document}\n",
    "A picture of Donald Knuth, creator of $\\LaTeX$, playing the organ.\n",
    " \n",
    "\\includegraphics[width = \\textwidth]{knuth.jpg}\n",
    "\\end{document}\n",
    "```"
   ]
  },
  {
   "cell_type": "markdown",
   "metadata": {},
   "source": [
    "There is another common option when including a picture within your document, to rotate it. This can easily accomplished as the following:"
   ]
  },
  {
   "cell_type": "markdown",
   "metadata": {},
   "source": [
    "$\\textbf{Input:}$\n",
    "```latex\n",
    "\\documentclass{article}\n",
    "\\usepackage{graphicx}\n",
    "\\graphicspath{}\n",
    " \n",
    "\\begin{document}\n",
    "A picture of Donald Knuth, creator of $\\LaTeX$, playing the organ.\n",
    " \n",
    "\\includegraphics[width = \\textwidth,angle = 20]{knuth.jpg}\n",
    "\\end{document}\n",
    "```"
   ]
  },
  {
   "cell_type": "markdown",
   "metadata": {},
   "source": [
    "The parameter `angle=45` rotates the picture 45 degrees counter-clockwise. To rotate the picture clockwise use a negative number."
   ]
  },
  {
   "cell_type": "markdown",
   "metadata": {},
   "source": [
    "# Positioning\n",
    "In the previous section was explained how to include images in your document, but the combination of text and images may not look as we expected. To change this we need to introduce a new environment - the $\\textbf{figure}$ environment.\n",
    "\n",
    "The figure environment is used to display pictures as floating elements within the document. This means you include the picture inside the figure environment and you don't have to worry about it's placement, $\\LaTeX$ will position it in a such way that it fits the flow of the document.\n",
    "\n",
    "An additional parameter can be passed to determine the figure positioning. In the following example, `begin{figure}[h]`, the parameter inside the brackets set the position of the figure to here. Below a table to list the possible positioning values."
   ]
  },
  {
   "cell_type": "markdown",
   "metadata": {},
   "source": [
    "$\\textbf{Input:}$\n",
    "```latex\n",
    "\\documentclass{article}\n",
    "\\usepackage{graphicx}\n",
    "\\graphicspath{}\n",
    " \n",
    "\\begin{document}\n",
    "A picture of Donald Knuth, creator of $\\LaTeX$, playing the organ.\n",
    "\n",
    "\\begin{figure}[h]\n",
    "\\includegraphics[width = \\textwidth,angle = 20]{knuth.jpg}\n",
    "\\centering\n",
    "\\end{figure}\n",
    "\\end{document}\n",
    "```"
   ]
  },
  {
   "cell_type": "markdown",
   "metadata": {},
   "source": [
    "The additional command `\\centering` will centre the picture. The default alignment is left."
   ]
  },
  {
   "cell_type": "markdown",
   "metadata": {
    "slideshow": {
     "slide_type": "slide"
    }
   },
   "source": [
    "Below a table to list the possible positioning values.\n",
    "\n",
    "$$\\begin{array}{mm}\n",
    "\\hline\n",
    "h & \\text{Place the float here, i.e., approximately at the same point it occurs in the source text (however, not exactly at the spot)} \\\\\n",
    "\\hline\n",
    "t  & \\text{Position at the top of the page.}\\\\\n",
    "\\hline\n",
    "b  & \\text{Position at the bottom of the page.}\\\\\n",
    "\\hline\n",
    "p  & \\text{Put on a special page for floats only.}\\\\\n",
    "\\hline\n",
    "!  & \\text{Override internal parameters LaTeX uses for determining \"good\" float positions.}\\\\\n",
    "\\hline\n",
    "H  & \\text{Places the float at precisely the location in the $\\LaTeX$ code.} \\\\\n",
    "   & \\text{Requires the float package, though may cause problems occasionally. This is somewhat equivalent to h!.}\\\\\n",
    "\\hline\n",
    "\\end{array}\n",
    "$$"
   ]
  },
  {
   "cell_type": "markdown",
   "metadata": {},
   "source": [
    "It's also possible to wrap the text around a figure. When the document contains small pictures this makes it look better. This requires the package $\\textbf{wrapfig}$."
   ]
  },
  {
   "cell_type": "markdown",
   "metadata": {},
   "source": [
    "$\\textbf{Input:}$\n",
    "\n",
    "```latex\n",
    "\\documentclass{article}\n",
    "\\usepackage{graphicx}\n",
    "\\usepackage{wrapfig}\n",
    "\\graphicspath{}\n",
    "\n",
    "\\begin{document}\n",
    "\n",
    "\\begin{wrapfigure}{l}{0.4\\textwidth} %this figure will be at the left\n",
    "    \\centering\n",
    "    \\includegraphics[width=0.4\\textwidth]{knuth.jpg}\n",
    "\\end{wrapfigure}\n",
    "\n",
    "Donald Ervin Knuth born January 10, 1938) is an American computer scientist, mathematician, and professor emeritus at Stanford University. He is the 1974 recipient of the ACM Turing Award, informally considered the Nobel Prize of computer science.\n",
    "\n",
    "He is the author of the multi-volume work The Art of Computer Programming. He contributed to the development of the rigorous analysis of the computational complexity of algorithms and systematized formal mathematical techniques for it. In the process he also popularized the asymptotic notation. In addition to fundamental contributions in several branches of theoretical computer science, Knuth is the creator of the TeX computer typesetting system, the related METAFONT font definition language and rendering system, and the Computer Modern family of typefaces.\n",
    "\n",
    "As a writer and scholar, Knuth created the WEB and CWEB computer programming systems designed to encourage and facilitate literate programming, and designed the MIX/MMIX instruction set architectures. Knuth strongly opposes granting software patents, having expressed his opinion to the United States Patent and Trademark Office and European Patent Organisation.\n",
    "\n",
    "\\end{document}\n",
    "\n",
    "\n",
    "```"
   ]
  },
  {
   "cell_type": "markdown",
   "metadata": {},
   "source": [
    "## Captioning, labelling and referencing\n",
    "\n",
    "Captioning images to add a brief description and labelling them for further reference are two important tools when working on a lengthy text."
   ]
  },
  {
   "cell_type": "markdown",
   "metadata": {},
   "source": [
    "$\\textbf{Input:}$\n",
    "\n",
    "```latex\n",
    "\n",
    "\\documentclass{article}\n",
    "\\usepackage{graphicx}\n",
    "\\graphicspath{}\n",
    "\n",
    "\\begin{document}\n",
    "\n",
    "\\begin{figure} %this figure will be at the right\n",
    "    \\centering\n",
    "    \\includegraphics[width=0.4\\textwidth]{knuth.jpg}\n",
    "    \\caption{A picture of Knuth playing organ}\n",
    "    \\label{fig:knuth}\n",
    "\\end{figure}\n",
    "\n",
    "As you can see in the figure \\ref{fig:knuth}, Donald Ervin Knuth can play organ.\n",
    "\\end{document}\n",
    "\n",
    "```\n",
    "`\\label{}` and `\\ref{}` will be explained more in [Lesson 5- Referencing](05_reference.ipynb)."
   ]
  },
  {
   "cell_type": "markdown",
   "metadata": {},
   "source": [
    "## Key points:\n",
    "- Insert pictures using the $\\textbf{graphicx}$ package\n",
    "- Further reference https://www.overleaf.com/learn/latex/Inserting_Images"
   ]
  },
  {
   "cell_type": "code",
   "execution_count": null,
   "metadata": {
    "collapsed": true
   },
   "outputs": [],
   "source": []
  }
 ],
 "metadata": {
  "anaconda-cloud": {},
  "celltoolbar": "Slideshow",
  "kernelspec": {
   "display_name": "Python 2",
   "language": "python",
   "name": "python2"
  },
  "language_info": {
   "codemirror_mode": {
    "name": "ipython",
    "version": 2
   },
   "file_extension": ".py",
   "mimetype": "text/x-python",
   "name": "python",
   "nbconvert_exporter": "python",
   "pygments_lexer": "ipython2",
   "version": "2.7.15+"
  }
 },
 "nbformat": 4,
 "nbformat_minor": 2
}
