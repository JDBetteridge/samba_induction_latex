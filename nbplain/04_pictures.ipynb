{
 "cells": [
  {
   "cell_type": "markdown",
   "metadata": {
    "slideshow": {
     "slide_type": "slide"
    }
   },
   "source": [
    "# Pictures and Figures"
   ]
  },
  {
   "cell_type": "markdown",
   "metadata": {
    "slideshow": {
     "slide_type": "slide"
    }
   },
   "source": [
    "## Overview:\n",
    "- **Teaching:** 20 min\n",
    "- **Exercises:** 0 min\n",
    "\n",
    "**Objectives**\n",
    "- Understand how to add pictures to your document "
   ]
  },
  {
   "cell_type": "markdown",
   "metadata": {},
   "source": [
    "## Setup: Download the Picture\n",
    "\n",
    "Before we begin, we need a picture to use so that we can demonstrate how to insert them into $\\LaTeX$ documents!\n",
    "The picture we will be using can be seen below and [downloaded here](../images/Phoenix_Fabelwesen.jpg).\n",
    "You can also [download the source code](../data/structured_documents_example.tex) from the previous lesson to use as a template, if you want to follow word-for-word with this lesson.\n",
    "\n",
    "![Artist's impression of a Pheonix](../images/Phoenix_Fabelwesen.jpg)\n",
    "This image is that of a phoenix as depicted in a book of legendary creatures by [FJ Bertuch (1747–1822)](https://en.wikipedia.org/wiki/Friedrich_Justin_Bertuch).\n",
    "\n",
    "Finally, make sure you include the `graphicx` package in your preamble, by inserting the command `\\usepackage{graphicx}`.\n",
    "Latex can not manage images by itself, so we need to use the `graphicx` package.\n",
    "\n",
    "### Overleaf users:\n",
    "Upload the picture to your project on Overleaf using the toolbar.\n",
    "\n",
    "### Local Editor users (non-Overleaf):\n",
    "Make sure you save the picture to the same folder (directory) as the `.tex` file you are going to use in this lesson.\n",
    "Please also give it a memorable, yet not complicated, name!\n",
    "This name should not include `.` or spaces.\n",
    "\n",
    "If you are familiar with paths, you can save it anywhere on your computer so long as you know the path to the file from your `.tex` directory."
   ]
  },
  {
   "cell_type": "markdown",
   "metadata": {
    "slideshow": {
     "slide_type": "slide"
    }
   },
   "source": [
    "## Introduction\n",
    "\n",
    "Images are essential elements in most scientific documents: they contain results, experimental diagrams and key concepts.\n",
    "$\\LaTeX$ provides several options to handle images and make them look exactly what you need. \n",
    "In this lesson, we will look at how to include images in your documents; and how to shrink, enlarge, rotate, and cross-reference them.\n",
    "\n",
    "You can insert an image into a document simply by using the `\\includegraphics{file}` command, where `file` is the name (plus extension) of the image file you want to include.\n",
    "\n",
    "```latex\n",
    "\\documentclass{article}\n",
    "\\usepackage{graphicx}\n",
    " \n",
    "\\begin{document}\n",
    "A picture of a Phoenix, as illustrated by FJ Bertuch.\n",
    "\\includegraphics{Phoenix_Fabelwesen.jpg}\n",
    " \n",
    "\\end{document}\n",
    "```\n",
    "\n",
    "**NOTE:** If you saved the file to a different folder to where your `.tex` file is, you will need to give the path to the file here.\n",
    "Because of the way we write these lessons, you will notice this difference when viewing our source code (available at the end of the lesson) - so please take care if you intend to use it in your own work!"
   ]
  },
  {
   "cell_type": "markdown",
   "metadata": {},
   "source": [
    "## Image Size and Rotation\n",
    "\n",
    "Hooray - our image has appeared in our document!\n",
    "But we might decide that it's the wrong size, or we might be inserting a picture that's saved lanscape but want it displayed portrait.\n",
    "The `\\includegraphics` command can also be given optional arguments to adjust these properties of the image, by including these options in square braces `[ ]` as follows:\n",
    "\n",
    "```latex\n",
    "\\includegraphics[scale=0.5]{Phoenix_Fabelwesen.jpg}\n",
    "```\n",
    "\n",
    "The `scale` argument tells $\\LaTeX$ to resize the image, keeping the aspect ratio.\n",
    "The `=0.5` specifies to which size we want the image scaled - in this case to 50% (0.5 as a percentage) of it's original size.\n",
    "However if we don't want to preserve the aspect ratio of our image, we can use the `width` and `height` keywords _instead_ of the `scale` argument:\n",
    "\n",
    "```latex\n",
    "\\includegraphics[width=3cm, height=3cm]{Phoenix_Fabelwesen.jpg}\n",
    "```\n",
    "\n",
    "TSTK GOT TO HERE WITH THE SCHEDULE\n",
    "\n",
    "The parameters inside the brackets `width=3cm, height=3cm` define the width and the height of the picture. You can use different units for these parameters. If only the width parameter is passed, the height will be scaled to keep the aspect ratio.\n",
    "\n",
    "The length units can also be relative to some elements in document. For instance, choosing `width = \\textwidth` makes your picture the same width as the text. Instead of \\textwidth you can use any other default LATEX length: \\columnsep, \\linewidth, \\textheight, \\paperheight, etc. "
   ]
  },
  {
   "cell_type": "markdown",
   "metadata": {
    "slideshow": {
     "slide_type": "slide"
    }
   },
   "source": [
    "$\\LaTeX$ handles images (more generally graphics) "
   ]
  },
  {
   "cell_type": "markdown",
   "metadata": {},
   "source": [
    "$\\textbf{Input:}$\n",
    "```latex\n",
    "\\documentclass{article}\n",
    "\\usepackage{graphicx}\n",
    "\\graphicspath{}\n",
    " \n",
    "\\begin{document}\n",
    "A picture of Donald Knuth, creator of $\\LaTeX$, playing the organ.\n",
    " \n",
    "\\includegraphics[width = \\textwidth]{knuth.jpg}\n",
    "\\end{document}\n",
    "```"
   ]
  },
  {
   "cell_type": "markdown",
   "metadata": {},
   "source": [
    "There is another common option when including a picture within your document, to rotate it. This can easily accomplished as the following:"
   ]
  },
  {
   "cell_type": "markdown",
   "metadata": {},
   "source": [
    "$\\textbf{Input:}$\n",
    "```latex\n",
    "\\documentclass{article}\n",
    "\\usepackage{graphicx}\n",
    "\\graphicspath{}\n",
    " \n",
    "\\begin{document}\n",
    "A picture of Donald Knuth, creator of $\\LaTeX$, playing the organ.\n",
    " \n",
    "\\includegraphics[width = \\textwidth,angle = 20]{knuth.jpg}\n",
    "\\end{document}\n",
    "```"
   ]
  },
  {
   "cell_type": "markdown",
   "metadata": {},
   "source": [
    "The parameter `angle=45` rotates the picture 45 degrees counter-clockwise. To rotate the picture clockwise use a negative number."
   ]
  },
  {
   "cell_type": "markdown",
   "metadata": {},
   "source": [
    "# Positioning\n",
    "In the previous section was explained how to include images in your document, but the combination of text and images may not look as we expected. To change this we need to introduce a new environment - the $\\textbf{figure}$ environment.\n",
    "\n",
    "The figure environment is used to display pictures as floating elements within the document. This means you include the picture inside the figure environment and you don't have to worry about it's placement, $\\LaTeX$ will position it in a such way that it fits the flow of the document.\n",
    "\n",
    "An additional parameter can be passed to determine the figure positioning. In the following example, `begin{figure}[h]`, the parameter inside the brackets set the position of the figure to here. Below a table to list the possible positioning values."
   ]
  },
  {
   "cell_type": "markdown",
   "metadata": {},
   "source": [
    "$\\textbf{Input:}$\n",
    "```latex\n",
    "\\documentclass{article}\n",
    "\\usepackage{graphicx}\n",
    "\\graphicspath{}\n",
    " \n",
    "\\begin{document}\n",
    "A picture of Donald Knuth, creator of $\\LaTeX$, playing the organ.\n",
    "\n",
    "\\begin{figure}[h]\n",
    "\\includegraphics[width = \\textwidth,angle = 20]{knuth.jpg}\n",
    "\\centering\n",
    "\\end{figure}\n",
    "\\end{document}\n",
    "```"
   ]
  },
  {
   "cell_type": "markdown",
   "metadata": {},
   "source": [
    "The additional command `\\centering` will centre the picture. The default alignment is left."
   ]
  },
  {
   "cell_type": "markdown",
   "metadata": {
    "slideshow": {
     "slide_type": "slide"
    }
   },
   "source": [
    "Below a table to list the possible positioning values.\n",
    "\n",
    "$$\\begin{array}{mm}\n",
    "\\hline\n",
    "h & \\text{Place the float here, i.e., approximately at the same point it occurs in the source text (however, not exactly at the spot)} \\\\\n",
    "\\hline\n",
    "t  & \\text{Position at the top of the page.}\\\\\n",
    "\\hline\n",
    "b  & \\text{Position at the bottom of the page.}\\\\\n",
    "\\hline\n",
    "p  & \\text{Put on a special page for floats only.}\\\\\n",
    "\\hline\n",
    "!  & \\text{Override internal parameters LaTeX uses for determining \"good\" float positions.}\\\\\n",
    "\\hline\n",
    "H  & \\text{Places the float at precisely the location in the $\\LaTeX$ code.} \\\\\n",
    "   & \\text{Requires the float package, though may cause problems occasionally. This is somewhat equivalent to h!.}\\\\\n",
    "\\hline\n",
    "\\end{array}\n",
    "$$"
   ]
  },
  {
   "cell_type": "markdown",
   "metadata": {},
   "source": [
    "It's also possible to wrap the text around a figure. When the document contains small pictures this makes it look better. This requires the package $\\textbf{wrapfig}$."
   ]
  },
  {
   "cell_type": "markdown",
   "metadata": {},
   "source": [
    "$\\textbf{Input:}$\n",
    "\n",
    "```latex\n",
    "\\documentclass{article}\n",
    "\\usepackage{graphicx}\n",
    "\\usepackage{wrapfig}\n",
    "\\graphicspath{}\n",
    "\n",
    "\\begin{document}\n",
    "\n",
    "\\begin{wrapfigure}{l}{0.4\\textwidth} %this figure will be at the left\n",
    "    \\centering\n",
    "    \\includegraphics[width=0.4\\textwidth]{knuth.jpg}\n",
    "\\end{wrapfigure}\n",
    "\n",
    "Donald Ervin Knuth born January 10, 1938) is an American computer scientist, mathematician, and professor emeritus at Stanford University. He is the 1974 recipient of the ACM Turing Award, informally considered the Nobel Prize of computer science.\n",
    "\n",
    "He is the author of the multi-volume work The Art of Computer Programming. He contributed to the development of the rigorous analysis of the computational complexity of algorithms and systematized formal mathematical techniques for it. In the process he also popularized the asymptotic notation. In addition to fundamental contributions in several branches of theoretical computer science, Knuth is the creator of the TeX computer typesetting system, the related METAFONT font definition language and rendering system, and the Computer Modern family of typefaces.\n",
    "\n",
    "As a writer and scholar, Knuth created the WEB and CWEB computer programming systems designed to encourage and facilitate literate programming, and designed the MIX/MMIX instruction set architectures. Knuth strongly opposes granting software patents, having expressed his opinion to the United States Patent and Trademark Office and European Patent Organisation.\n",
    "\n",
    "\\end{document}\n",
    "\n",
    "\n",
    "```"
   ]
  },
  {
   "cell_type": "markdown",
   "metadata": {},
   "source": [
    "## Captioning, labelling and referencing\n",
    "\n",
    "Captioning images to add a brief description and labelling them for further reference are two important tools when working on a lengthy text."
   ]
  },
  {
   "cell_type": "markdown",
   "metadata": {},
   "source": [
    "$\\textbf{Input:}$\n",
    "\n",
    "```latex\n",
    "\n",
    "\\documentclass{article}\n",
    "\\usepackage{graphicx}\n",
    "\\graphicspath{}\n",
    "\n",
    "\\begin{document}\n",
    "\n",
    "\\begin{figure} %this figure will be at the right\n",
    "    \\centering\n",
    "    \\includegraphics[width=0.4\\textwidth]{knuth.jpg}\n",
    "    \\caption{A picture of Knuth playing organ}\n",
    "    \\label{fig:knuth}\n",
    "\\end{figure}\n",
    "\n",
    "As you can see in the figure \\ref{fig:knuth}, Donald Ervin Knuth can play organ.\n",
    "\\end{document}\n",
    "\n",
    "```"
   ]
  },
  {
   "cell_type": "markdown",
   "metadata": {},
   "source": [
    "## Key points:\n",
    "- Insert pictures using the $\\textbf{graphicx}$ package\n",
    "- Further reference https://www.overleaf.com/learn/latex/Inserting_Images"
   ]
  },
  {
   "cell_type": "code",
   "execution_count": null,
   "metadata": {
    "collapsed": true
   },
   "outputs": [],
   "source": []
  }
 ],
 "metadata": {
  "anaconda-cloud": {},
  "celltoolbar": "Slideshow",
  "kernelspec": {
   "display_name": "Python 2",
   "language": "python",
   "name": "python2"
  },
  "language_info": {
   "codemirror_mode": {
    "name": "ipython",
    "version": 2
   },
   "file_extension": ".py",
   "mimetype": "text/x-python",
   "name": "python",
   "nbconvert_exporter": "python",
   "pygments_lexer": "ipython2",
   "version": "2.7.15+"
  }
 },
 "nbformat": 4,
 "nbformat_minor": 2
}
