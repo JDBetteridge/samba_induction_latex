{
 "cells": [
  {
   "cell_type": "markdown",
   "metadata": {
    "slideshow": {
     "slide_type": "-"
    }
   },
   "source": [
    "# Macros"
   ]
  },
  {
   "cell_type": "markdown",
   "metadata": {
    "slideshow": {
     "slide_type": "-"
    }
   },
   "source": [
    "## Overview:\n",
    "- **Teaching:** _t_ min\n",
    "- **Exercises:** _t_ min\n",
    "\n",
    "**Objectives**\n",
    "- Understand what a $\\LaTeX$ macro is, and it's uses\n",
    "- To be able to define your own macros"
   ]
  },
  {
   "cell_type": "markdown",
   "metadata": {},
   "source": [
    "## Imagine if you will...\n",
    "\n",
    "Suppose you have spent the past 3 months labouring over a wonderful paper you're planning to submit to a prestigous journal, and are just waiting on your supervisor's comments before pushing the button and sending it off.\n",
    "Your supervisor gets back to you and approves of everything, sure it's over 30 pages long, but every single one of those pages is necessary.\n",
    "There's just a couple of comments:\n",
    "1. In some places you've used $\\nabla^2$, and in others you've used $\\Delta$,\n",
    "1. You've used the variable $\\mu$ for both the viscosity of a fluid _and_ the mean value of it's stochastic distribution,\n",
    "1. There are some hanging brackets, and brackets of the wrong size, in a number of places.\n",
    "\n",
    "Then comes the dread realisation when you realise you're going to have to do the following to fix these issues;\n",
    "1. This one isn't too bad you think, I can just do a CTRL+F (find and replace) in my .tex file to find every instance of $\\Delta$, and replace it with $\\nabla^2$. Of course, I'm going to have to manually check that I'm replacing the right things in the right place as I go, but this isn't too bad.\n",
    "1. This one is going to be a pain - you can't just find and replace _every_ instance of $\\mu$, because half of them are correct! You're going to have to first decide on a new variable, then go through every instance of $\\mu$ using the \"find in text\" feature, determine manually if it needs replacing or not, then replace it, and repeat for the whole document!\n",
    "1. At this point you get fed up - how on earth are you going to find _every_ set of mismatched brackets? And once you do, how do you know the correct size you should make them so that they fit around the expression they contain? What if you need to find an instance where you've used a `(` on the left but a `]` on the right? The list goes on..."
   ]
  },
  {
   "cell_type": "markdown",
   "metadata": {},
   "source": [
    "## Setup+:\n",
    "\n",
    "Below is some sample text that illustrates the above problems, albeit on a much smaller scale (there's only a couple of paragraphs, rather than the whole report).\n",
    "However, this will be enough for our purposes - feel free to write your own example text, or copy this into the body of the document you are working with."
   ]
  },
  {
   "cell_type": "code",
   "execution_count": 4,
   "metadata": {},
   "outputs": [
    {
     "name": "stdout",
     "output_type": "stream",
     "text": [
      "Command '['convert', '-density', '300', '/tmp/tmpvqmyb7_m/139778911225200.pdf', '-quality', '90', '/tmp/tmpvqmyb7_m/139778911225200.png']' returned non-zero exit status 1.\n",
      "convert-im6.q16: not authorized `/tmp/tmpvqmyb7_m/139778911225200.pdf' @ error/constitute.c/ReadImage/412.\n",
      "convert-im6.q16: no images defined `/tmp/tmpvqmyb7_m/139778911225200.png' @ error/convert.c/ConvertImageCommand/3258.\n",
      "\n"
     ]
    }
   ],
   "source": [
    "%%pdflatex\n",
    "\\LaTeX"
   ]
  },
  {
   "cell_type": "markdown",
   "metadata": {},
   "source": [
    ":Setup+"
   ]
  },
  {
   "cell_type": "markdown",
   "metadata": {},
   "source": [
    "# Key Points:\n",
    "- hi"
   ]
  }
 ],
 "metadata": {
  "anaconda-cloud": {},
  "celltoolbar": "Slideshow",
  "kernelspec": {
   "display_name": "Python 3",
   "language": "python",
   "name": "python3"
  },
  "language_info": {
   "codemirror_mode": {
    "name": "ipython",
    "version": 3
   },
   "file_extension": ".py",
   "mimetype": "text/x-python",
   "name": "python",
   "nbconvert_exporter": "python",
   "pygments_lexer": "ipython3",
   "version": "3.7.3"
  }
 },
 "nbformat": 4,
 "nbformat_minor": 2
}
