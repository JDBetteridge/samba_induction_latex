{
 "cells": [
  {
   "cell_type": "markdown",
   "metadata": {
    "slideshow": {
     "slide_type": "slide"
    }
   },
   "source": [
    "# Stuctured documents"
   ]
  },
  {
   "cell_type": "markdown",
   "metadata": {
    "slideshow": {
     "slide_type": "slide"
    }
   },
   "source": [
    "## Overview:\n",
    "- **Teaching:** 20 min\n",
    "- **Exercises:** 0 min\n",
    "\n",
    "**Objectives**\n",
    "- understand how to organise different parts of a document in $\\LaTeX$"
   ]
  },
  {
   "cell_type": "markdown",
   "metadata": {
    "slideshow": {
     "slide_type": "slide"
    }
   },
   "source": [
    "# Displaying the title of your document\n",
    "\n",
    "To display the title of your document you have to declare its components in the preamble and then use some additional code:"
   ]
  },
  {
   "cell_type": "markdown",
   "metadata": {},
   "source": [
    "$\\textbf{Input}:$\n",
    "\n",
    "```latex\n",
    "\\documentclass[]{article}\n",
    "\\usepackage[utf8]{inputenc}\n",
    " \n",
    "\\title{Induction Week}\n",
    "\\author{Your name here}\n",
    "\\date{\\today}\n",
    " \n",
    "\\begin{document}\n",
    " \n",
    "\\maketitle % This line make the title show up at the beginning of your document\n",
    " \n",
    "An example of displaying the title of your document.\n",
    " \n",
    "\\end{document}\n",
    "```"
   ]
  },
  {
   "cell_type": "markdown",
   "metadata": {},
   "source": [
    "## Basic formatting: abstract, paragraphs and newlines"
   ]
  },
  {
   "cell_type": "markdown",
   "metadata": {},
   "source": [
    "In scientific documents, it's a common practice to include a brief overview of the main subject of the paper. In $\\LaTeX$, the abstract environment is for this purpose. The abstract environment will put the text in a special format at the top of your document.\n",
    "\n",
    "When writing the contents of your document, if you need to start a new paragraph you must hit the \"Enter\" key twice (to insert a double blank line). Notice that paragraphs have a white space before the first line.\n",
    "\n",
    "To start a new line without actually starting a new paragraph insert a break line point, this can be done by `\\\\` (a double backslash as in the example) or the `\\newline` command."
   ]
  },
  {
   "cell_type": "markdown",
   "metadata": {},
   "source": [
    "$\\textbf{Input}:$\n",
    "\n",
    "```latex\n",
    "\\documentclass[]{article}\n",
    "\\usepackage[utf8]{inputenc}\n",
    "\n",
    "\\title{Induction Week}\n",
    "\\author{Your name here}\n",
    "\\date{\\today}\n",
    "\n",
    "\\begin{document}\n",
    "\n",
    "\\maketitle % This line make the title show up at the beginning of your document\n",
    " \n",
    "\\begin{abstract}\n",
    "This is a simple paragraph at the beginning of the document. A brief introduction to the main subject.\n",
    "\\end{abstract}\n",
    " \n",
    "In this document some extra packages and parameters\n",
    "were added. There is an encoding package,\n",
    "and pagesize and fontsize parameters.\n",
    " \n",
    "This line will start a second paragraph. And I can\n",
    " brake\\\\ the lines \\\\ and continue on a new line.\n",
    " \n",
    "\\end{document}\n",
    "```"
   ]
  },
  {
   "cell_type": "markdown",
   "metadata": {},
   "source": [
    "### Section and chapters\n",
    "Commands to organize a document vary depending on the document type, the simplest form of organization is the sectioning, available in all formats. $\\LaTeX$ can organize, number, and index chapters and sections of document. There are up to 7 levels of depth for defining sections depending on the document class:\n",
    "\n",
    "$$\\begin{array}{mm}\n",
    "-1 & \\text{\\part{part}} \\\\\n",
    "0  & \\text{\\chapter{chapter}}\\\\\n",
    "1  & \\text{\\section{section}}\\\\\n",
    "2  & \\text{\\subsection{subsection}}\\\\\n",
    "3  & \\text{\\subsubsection{subsubsection}}\\\\\n",
    "4  & \\text{\\paragraph{pagraph}}\\\\\n",
    "5  & \\text{\\subparagraph{subpagraph}}\\\\\n",
    "\\end{array}\n",
    "$$\n",
    "\n",
    "`\\part` and `\\chapter` are only available in report and book document classes.  To get an unnumbered chapter, section, sub-section, etc. add an asterisk (e.g. `\\section*{section}`) before the opening curly brace. These will not go into the table of contents.\n"
   ]
  },
  {
   "cell_type": "markdown",
   "metadata": {},
   "source": [
    "$\\textbf{Input}:$\n",
    "\n",
    "```latex\n",
    "\\documentclass{article}\n",
    " \n",
    "\\title{Sections and Chapters}\n",
    "\\author{lz848}\n",
    "\\date{\\today}\n",
    " \n",
    "\\begin{document}\n",
    " \n",
    "\\maketitle\n",
    " \n",
    "\\section{Introduction}\n",
    " \n",
    "This is the first section.\n",
    " \n",
    "\\section{Second Section}\n",
    "\n",
    "This is the second section.\n",
    "\n",
    "\\subsection{Subsection}\n",
    "This is the first subsection under the the second section.\n",
    "\n",
    "\\subsubsection{Subsubsection}\n",
    "Notice that sections are automatically numbered!\n",
    "\n",
    "\\paragraph{Paragraph}\n",
    "Notice that where a paragraph starts. Paragraphs are not numbered hence will not appear in the table of contents.\n",
    "\n",
    "\\end{document}\n",
    "```"
   ]
  },
  {
   "cell_type": "markdown",
   "metadata": {},
   "source": [
    "## Labels and cross referencing\n",
    "In $\\LaTeX$, you can easily reference almost anything that can be numbered, and have $\\LaTeX$ automatically updating the numbering for you whenever necessary. The objects which can be referenced include chapters, sections, subsections, footnotes, theorems, equations, figures and tables, and the commands to be used do not depend on what you are referencing, and they are:\n",
    "\n",
    "-`\\label{marker}`: used to give the object you want to reference a marker — a name which can be used to refer to that object later.\n",
    "\n",
    "-`\\ref{marker}`: used to reference an object with the specified marker. This will print the number that was assigned to the object."
   ]
  },
  {
   "cell_type": "markdown",
   "metadata": {
    "slideshow": {
     "slide_type": "slide"
    }
   },
   "source": [
    "$\\textbf{Input:}$\n",
    "\n",
    "```latex\n",
    "\\documentclass{article} \\usepackage{amsmath} % for \\eqref \n",
    "\n",
    "\\begin{document}\n",
    "\n",
    "\\section{Introduction}\n",
    "\\label{sec:intro}\n",
    "\n",
    "In Section \\ref{sec:method}, we \\ldots\n",
    "\n",
    "\\section{Method}\n",
    "\\label{sec:method}\n",
    "\n",
    "\\begin{equation}\n",
    "\\label{eq:euler}\n",
    "e^{i\\pi} + 1 = 0\n",
    "\\end{equation}\n",
    "\n",
    "By \\eqref{eq:euler}, we have \\ldots\n",
    "\n",
    "\\end{document}\n",
    "```"
   ]
  },
  {
   "cell_type": "markdown",
   "metadata": {},
   "source": [
    "## Key Points:\n",
    "- display the title of your document\n",
    "- numbering sections\n",
    "- label/refer numbered sections "
   ]
  }
 ],
 "metadata": {
  "celltoolbar": "Slideshow",
  "kernelspec": {
   "display_name": "Python 3",
   "language": "python",
   "name": "python3"
  },
  "language_info": {
   "codemirror_mode": {
    "name": "ipython",
    "version": 3
   },
   "file_extension": ".py",
   "mimetype": "text/x-python",
   "name": "python",
   "nbconvert_exporter": "python",
   "pygments_lexer": "ipython3",
   "version": "3.7.0"
  }
 },
 "nbformat": 4,
 "nbformat_minor": 2
}
