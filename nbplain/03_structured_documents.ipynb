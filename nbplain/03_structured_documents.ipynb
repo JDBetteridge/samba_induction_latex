{
 "cells": [
  {
   "cell_type": "markdown",
   "metadata": {
    "slideshow": {
     "slide_type": "slide"
    }
   },
   "source": [
    "# Stuctured documents"
   ]
  },
  {
   "cell_type": "markdown",
   "metadata": {
    "slideshow": {
     "slide_type": "slide"
    }
   },
   "source": [
    "## Overview:\n",
    "- **Teaching:** 20 min\n",
    "- **Exercises:** 0 min\n",
    "\n",
    "**Objectives**\n",
    "- Creating titles and abstracts in $\\LaTeX$ documents\n",
    "- Organising documents into sections\n",
    "- Utilising $\\LaTeX$'s automatic cross-referencing functionality"
   ]
  },
  {
   "cell_type": "markdown",
   "metadata": {},
   "source": [
    "## Structure is Essential in Anything that Thrives\n",
    "_(Quote: Henry Cloud)_\n",
    "\n",
    "As you might have noticed, so far all we have done is insert text and equations into a document, which is sufficient to produce the main body of text.\n",
    "However we will also be wanting document titles, abstracts, section headers and breaks, author names, and the like in our document too - and all of these will need to be formatted differently to the main body of text.\n",
    "$\\LaTeX$ helps us with this by the use of some more predefined commands; these commands impose a common structure and format across the _entire_ document to provide us with that professional finish."
   ]
  },
  {
   "cell_type": "markdown",
   "metadata": {},
   "source": [
    "## Information: Document Class\n",
    "\n",
    "There are some commands that are specific to a given document class - for example the `abstract` environment cannot be used in a `book` document class (without encoding a workaround) but can be used in the `article` class.\n",
    "In these lessons we will only be considering the `article` class, so all the environments you'll see will be compatable with this class of document."
   ]
  },
  {
   "cell_type": "markdown",
   "metadata": {
    "slideshow": {
     "slide_type": "slide"
    }
   },
   "source": [
    "### Starting Small: Document Title and Author\n",
    "\n",
    "Let's start simple and have $\\LaTeX$ automatically generate the title of our document, and automatically insert the author.\n",
    "To do this we need to make use of the `\\maketitle` command, and also predefine a few things in the document preamble.\n",
    "In the preamble we need to tell $\\LaTeX$ the title of the document (via `\\title`) and the author(s) (via `\\author`).\n",
    "We can also optionally provide $\\LaTeX$ with the date the document should be signed with (via `\\date`) or let $\\LaTeX$ autofill the date for us (`\\date{\\today}`).\n",
    "Then once we `\\begin{document}`, we insert the `\\maketitle` command and $\\LaTeX$ will look up the information we added, and render the title in the default style for the document class.\n",
    "\n",
    "**NOTE:** You can put the `\\maketitle` command anywhere in the document (and even in multiple times) and $\\LaTeX$ will happily render your title in the place it is told, as many times as it's told.\n",
    "Needless to say, this isn't recommended, but you can do it!\n",
    "\n",
    "Try the following code in your editor and see for yourself:\n",
    "\n",
    "```latex\n",
    "\\documentclass[]{article}\n",
    "\\usepackage[utf8]{inputenc}\n",
    " \n",
    "\\title{On Contact with the Wizarding World}\n",
    "\\author{Phillip D. Student}\n",
    "\\date{\\today}\n",
    " \n",
    "\\begin{document}\n",
    " \n",
    "\\maketitle % This line make the title show up at the beginning of your document\n",
    " \n",
    "This is some text after your title has rendered.\n",
    " \n",
    "\\end{document}\n",
    "```"
   ]
  },
  {
   "cell_type": "markdown",
   "metadata": {},
   "source": [
    "### Abstracts\n",
    "\n",
    "In scientific documents, it's a common practice to include a brief overview of the main subject of the paper, or an abstract. \n",
    "$\\LaTeX$ has an environment, the creatively named `abstract` environment, for this purpose. \n",
    "The `abstract` environment will put the text in a special format, typically making the text centre-aligned (rather than fixed-width alignment) and smaller than the main body of text.\n",
    "Abstracts are typically short (no more than a paragraph say) but $\\LaTeX$ won't stop you from entering as much as you want into the environment!\n",
    "\n",
    "**NOTE:** Again, like the `\\maketitle` command, the `abstract` environment can be placed _anywhere_ and _as many times_ as you like in a document, so make sure you put it in the right place.\n",
    "In general it is bad practice to have more than one `abstract` environment in a document, but again, $\\LaTeX$ won't stop you (but it might complain).\n",
    "\n",
    "```latex\n",
    "\\documentclass[]{article}\n",
    "\\usepackage[utf8]{inputenc}\n",
    " \n",
    "\\title{On Contact with the Wizarding World}\n",
    "\\author{Phillip D. Student}\n",
    "\\date{\\today}\n",
    " \n",
    "\\begin{document}\n",
    " \n",
    "\\maketitle % This line make the title show up at the beginning of your document\n",
    " \n",
    "\\begin{abstract}\n",
    "The failure of world governments to make contact with the wizarding world, or rather the wizarding world's continued ability to shield themselves from us, has long stifled international development and induced tensions between non-magic users (so called ``muggles\") and those with magic capabilities.\n",
    "The work in this thesis explores methods that could potentially be exploited for removing the barrier that has been so carefully constructed to separate these two societies, by study of sources detailing life in the wizarding world.\n",
    "The work in this thesis builds off the studies of Rowling, J. K; Lewis, C. S.; and Tolkien, J.R.R in it's investigation into the origin of the magic world and potential avenues to make contact.\n",
    "\\end{abstract}\n",
    "\n",
    "This is some text after your title and abstract has rendered.\n",
    " \n",
    "\\end{document}\n",
    "```"
   ]
  },
  {
   "cell_type": "markdown",
   "metadata": {},
   "source": [
    "## Information: Further Customisation\n",
    "\n",
    "If you aren't happy with the default layouts or formatting of the environments $\\LaTeX$ provides, you can change them using some more commands in the preamble of your document.\n",
    "We won't be covering this level of customisation here, because most of the time the journal or institution you are writing your document for will be providing you with a template file that will impose their formatting preferances on your document."
   ]
  },
  {
   "cell_type": "markdown",
   "metadata": {},
   "source": [
    "### Sections and subsections\n",
    "\n",
    "As mentioned previously, commands to organise and break a document into parts depend on the document class you are using.\n",
    "$\\LaTeX$ uses these commands to automatically number and index parts of a document.\n",
    "The most commonly used command to divide up a document is `\\section`; the command `\\section{title here}` will create a new section called `title here`, a header in your document, and will renumber all the other `sections` in your document to account for the new one.\n",
    "Using sections also allows $\\LaTeX$ to automatically generate a contents page in some documents.\n",
    "Sections will be automatically numbered for you - if you _don't_ want your section labelled, you put an asterisk after the `\\section` command (similarly to environments).\n",
    "\n",
    "There are also commands for creating subsections, again creatively called `\\subsection{subtitle here}` which work in the same way as the parent `\\section` command.\n",
    "In total, $\\LaTeX$ will let you nest all the way into `\\subsubsubsection` - IE three levels below `\\section`!\n",
    "You can also suppress the automatic numbering of `\\subsections` (and below) using an asterisk.\n",
    "\n",
    "See the example below illustrating the use of sections and subsections.\n",
    "\n",
    "```latex\n",
    "\\documentclass[]{article}\n",
    "\\usepackage[utf8]{inputenc}\n",
    " \n",
    "\\begin{document}\n",
    " \n",
    "\\section{Benefits of Magic}\n",
    "In this section we consider some of the benefits that having access to magic would bring on mankind.\n",
    "\n",
    "\\subsection{Benefits of Magical Animals}\n",
    "There are several magical animals that are yet undiscovered that could provide huge boons to our everyday lifestyle and working environment.\n",
    "Oliphaunts have the potential to eliminate the need for heavy construction machinery and heavy-goods transport, and provide little to no air pollution as an additional benefit.\n",
    "Phoenixes, with their healing ability and ease of flight, could effectively act quickly to prevent disaster in environmental crises.\n",
    "\n",
    "\\section{Socio-Economic Considerations}\n",
    "In this section we will explore some of the social and economic considerations that governments should discuss prior to making contact with the wizarding world.\n",
    "\n",
    "\\subsection*{On Responsible Use of Magic}\n",
    "With great power comes great responsibility, and so it is only natural that the general population should be subject to a vetting process before being granted access to magical abilities and training.\n",
    "In turn we should ensure that governments are not dominated by magic-using and muggle faction splits, else we create the very divide in society that we are working so hard to eliminate.\n",
    "\n",
    "\\subsection*{On Global Trade and Industry}\n",
    "With the ability to apparate, several industries will be negatively impacted.\n",
    "Commercial travel will be particularly affected, with predictions of up to 95\\% loss of gross capital.\n",
    "In turn the oil and gas industries will suffer from the decreased demand for commercially available fuel, but may benefit substantially from use of the alchemical craft to ``go greener\", so to speak.latex article\n",
    "\n",
    "\\end{document}\n",
    "```\n",
    "\n",
    "Note that `\\section` (and the various `sub`-s) are commands and _not_ environments; this is why we don't `\\begin` and `\\end` them.\n",
    "Also notice the _placement_ of the asterisk on the `\\subsection*` command - it goes between the curly braces and the name of the command itself."
   ]
  },
  {
   "cell_type": "markdown",
   "metadata": {},
   "source": [
    "## Information: Page Breaks\n",
    "\n",
    "You may notice that the main body of text in your document starts immediately after your title (and abstract) have been rendered.\n",
    "This is undesirable in several contexts, so we can use the `\\newpage` command to tell $\\LaTeX$ to start a new page.\n",
    "This command works similarly to the `\\newline` command we saw in [lesson 1](./01_intro.ipynb), only this one forces a new page rather than a new line!"
   ]
  },
  {
   "cell_type": "markdown",
   "metadata": {},
   "source": [
    "## Labels and cross referencing\n",
    "\n",
    "In $\\LaTeX$ almost anything can be numbered, tracked, and referred back to using the `\\ref` and `\\label` commands.\n",
    "Combined with the fact that $\\LaTeX$ automatically handles updating the numbering, this means you can write and restructure your document almost at will. \n",
    "Some of the common objects which can be referenced include:\n",
    " - Sections and subsections, as you've seen\n",
    " - Footnotes\n",
    " - Theorems, lemmas, definitions, and even proofs\n",
    " - Equations\n",
    " - Figures and tables\n",
    "\n",
    "The commands are used in the following way:\n",
    "- `\\label{marker}`: Gives the object you want to reference a marker, named `marker`. Use this name when you want to refer back to this object.\n",
    "- `\\ref{marker}`: Calls on the object with the specified marker. This will print the number that was assigned (automatically by $\\LaTeX$) to the object.\n",
    "\n",
    "We can see some examples in the code below.\n",
    "\n",
    "```latex\n",
    "\\documentclass[]{article}\n",
    "\\usepackage[utf8]{inputenc}\n",
    " \n",
    "\\begin{document}\n",
    " \n",
    "\\section{Benefits of Magic} \\label{sec:BenefitsOfMagic}\n",
    "In this section we consider some of the benefits that having access to magic would bring on mankind.\n",
    "\n",
    "\\subsection{Benefits of Magical Animals} \\label{sec:Animals}\n",
    "There are several magical animals that are yet undiscovered that could provide huge boons to our everyday lifestyle and working environment.\n",
    "Oliphaunts have the potential to eliminate the need for heavy construction machinery and heavy-goods transport, and provide little to no air pollution as an additional benefit.\n",
    "Indeed, we can even predict the resulting pattern in the concentration of carbon dioxide in the atmosphere ($c_{atm}$) on a timescale of years ($t$) after this switch:\n",
    "\\begin{equation} \\label{eq:CO2Reduction}\n",
    "    c_{atm} = c_{0} e^{-\\sigma t},\n",
    "\\end{equation}\n",
    "where $c_{0}$ is the current concentration of carbon dioxide in the atmosphere and $\\sigma>0$ is the so-called ``Oliphaunt efficiency coefficient\".\n",
    "\n",
    "\\section{Socio-Economic Considerations}\n",
    "In this section we will explore some of the social and economic considerations that governments should discuss prior to making contact with the wizarding world.\n",
    "\n",
    "\\subsection*{On Global Trade and Industry}\n",
    "In particular, in section \\ref{sec:Animals} we highlighted some of the beneficial impacts of oliphaunts.\n",
    "In particular we demonstrated that the concentration of carbon dioxide in the atmosphere would evolve according to equation \\ref{eq:CO2Reduction}; inserting our predicted values for $\\sigma$ and reported values for $c_{0}$ yields the conclusion that global carbon dioxide levels will fall to pre-industrial levels in as few as 7.5 years.\n",
    "\n",
    "\\end{document}\n",
    "```\n",
    "\n",
    "Notice how we don't have to label things we don't want to refer back to (so we didn't give `\\section{Socio-Economic Considerations}` a label), nor does $\\LaTeX$ mind if we give something a label and then don't ever refer to it (`\\section{Benefits of Magic}`).\n",
    "\n",
    "There is also no need to include the `sec:` or `eq:` parts of the markers in your labels, however we recommend adopting a system like this as it will help _you_ keep track of the content of your document!"
   ]
  },
  {
   "cell_type": "markdown",
   "metadata": {},
   "source": [
    "## Source Code\n",
    "\n",
    "You can download the source code (`.tex`) file for the document that was created in this lesson [by clicking here](../data/structured_documents_example_tex.tex)."
   ]
  },
  {
   "cell_type": "markdown",
   "metadata": {},
   "source": [
    "## Key Points:\n",
    "- If we tell $\\LaTeX$ the `\\title`, `\\author`, and `\\date` in the preamble, we can use `\\maketitle` to render the document title.\n",
    "- We can divide our document into `\\sections` and `\\subsections`.\n",
    "- We use `\\label` and `\\ref` to utilise $\\LaTeX$'s automatic cross-referencing capabilities. "
   ]
  }
 ],
 "metadata": {
  "celltoolbar": "Slideshow",
  "kernelspec": {
   "display_name": "Python 3",
   "language": "python",
   "name": "python3"
  },
  "language_info": {
   "codemirror_mode": {
    "name": "ipython",
    "version": 3
   },
   "file_extension": ".py",
   "mimetype": "text/x-python",
   "name": "python",
   "nbconvert_exporter": "python",
   "pygments_lexer": "ipython3",
   "version": "3.7.3"
  }
 },
 "nbformat": 4,
 "nbformat_minor": 2
}
