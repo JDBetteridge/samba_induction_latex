{
 "cells": [
  {
   "cell_type": "markdown",
   "metadata": {
    "slideshow": {
     "slide_type": "slide"
    }
   },
   "source": [
    "# Introduction"
   ]
  },
  {
   "cell_type": "markdown",
   "metadata": {
    "slideshow": {
     "slide_type": "subslide"
    }
   },
   "source": [
    "## Overview:\n",
    "- **Teaching:** 15 min\n",
    "- **Exercises:** 0 min\n",
    "\n",
    "**Objectives**\n",
    "- Write your first document in $\\LaTeX$"
   ]
  },
  {
   "cell_type": "markdown",
   "metadata": {
    "slideshow": {
     "slide_type": "slide"
    }
   },
   "source": [
    "## What is $\\LaTeX$?\n",
    "LaTeX is a typesetting system, specifically designed for scientific report writing. \n",
    "It is freely available and has many editors, both downloadable and online, which come ready-to-use and even include document templates.\n",
    "There is an active community and several forum sites from which you can get help online; as well as a large development community creating additional packages which add to the functionality of $\\LaTeX$ itself.\n",
    "\n",
    "## How does it work?\n",
    "\n",
    "Unlike other document creation and editing programs, like MS Word or iOS Pages, $\\LaTeX$ (or more specifically TeX) doesn't let you use a Graphical User Interface to manipulate your document.\n",
    "That means that you can't \"drag-and-drop\" text and images around a page, instead what you do is write a plain text file (saved as a `.tex` file) which contains commands for $\\LaTeX$ to read to assemble your document!\n",
    "\n",
    "## Why $\\LaTeX$?\n",
    "Losing the ability to interact graphically with your document is a scary prospect for some people, and might sound like you're loosing a lot of functionality - but as you'll see over the course of these lessons working from a plain text file and having $\\LaTeX$ interpret it provides us with much more power and control over our document.\n",
    "One of the main advantages of $\\LaTeX$ is the way it seemlessly combines text (prose), images, equations, tables and the like; all of which are generated through commands and can have their properties controlled directly and precisely.\n",
    "Contrast this to a problem that I'm sure we have all experienced before:\n",
    "![Moving an Image in MS Word](../images/ms_word_image_move.jpg)"
   ]
  },
  {
   "cell_type": "markdown",
   "metadata": {
    "slideshow": {
     "slide_type": "slide"
    }
   },
   "source": [
    "## Getting started with Overleaf\n",
    "- Overleaf is a website for writing documents in $\\LaTeX$\n",
    "- It compiles your $\\LaTeX$ automatically to show you the results\n",
    "- As we go through this introduction, try out examples by typing them into the example document on Overleaf https://www.overleaf.com/\n",
    "\n",
    "Let's firstly create a new project for this session. \n",
    "To do so, you should register an account in order to use the online $\\LaTeX$ service.\n",
    "You can also use your own $\\LaTeX$ editor but things may look different to any screenshots in the lessons."
   ]
  },
  {
   "cell_type": "markdown",
   "metadata": {},
   "source": [
    "# Overleaf display\n",
    "\n",
    "You should see an interface like the following. \n",
    "There are three coloums: the left-end coloum shows all the files/folder under your current project; the middle column is where you type your source $\\LaTeX$ code; the column on the right shows you the output of your document. \n",
    "As you go through this introcution course, you can type/copy the provided code to the input pane (the middle coloumn) and click the `Recompile` button on the top of the output pane (the right coloum) to see the result.\n",
    "\n",
    "![Create a new project](../images/console.png)\n",
    "\n",
    "Now empty your input pane and compile the following code instead. \n",
    "This is an example of a minimal Latex document (a \"minimum working example\").\n",
    "\n",
    "```latex\n",
    "\\documentclass{article}\n",
    "\n",
    "%you can type some commands before the document begins here. This section is called the preamble and we will talk about what it can be used for later.\n",
    "\n",
    "\\begin{document}\n",
    "\n",
    "    %all the content for your document goes in here\n",
    "    Hello World!\n",
    "  \n",
    "\\end{document}\n",
    "```\n",
    "\n",
    "You should end up with a document that contains the phrase \"Hello world!\"."
   ]
  },
  {
   "cell_type": "markdown",
   "metadata": {
    "slideshow": {
     "slide_type": "slide"
    }
   },
   "source": [
    "## Information: $\\LaTeX$ Syntax\n",
    "\n",
    "You should notice a few syntax rules for the source code in this simple example:\n",
    "- A command starts with a backslash, `\\`\n",
    "- Every document starts with a `\\documentclass` command, which tells $\\LaTeX$ what kind of document you want to write. There are several [options available](https://en.wikibooks.org/wiki/LaTeX/Document_Structure#Document_classes) that you can lookup.\n",
    "- Commands can be given arguments (or parameters) in curly braces `{}`. Some commands require a certain number of arguments, whilst other commands can take optional arguments. In our example , the argument `article` tells $\\LaTeX$ the kind of document we are creating.\n",
    "- A percent sign `%` starts a comment, meaning that $\\LaTeX$ will ignore the rest of the line. Use comments as reminders when writing your source code, like for summarising the previous paragraph so you can find content faster when you come back to your document."
   ]
  },
  {
   "cell_type": "markdown",
   "metadata": {},
   "source": [
    "## Typesetting Text\n",
    "\n",
    "You can start writing your document by typing text between `\\begin{document} ... \\end{document}`.\n",
    "This is also where you will include commands for placing images into your document, breaking the document into sections, creating title pages and contents, amongst other things."
   ]
  },
  {
   "cell_type": "markdown",
   "metadata": {},
   "source": [
    "## Exercise: $\\LaTeX$ interpretation\n",
    "\n",
    "Try to type the following text and see what you get:\n",
    "\n",
    "Fish and $\\, \\, \\, \\, \\, \\,$ chips!\n",
    "\n",
    "What do you notice?\n",
    "\n",
    "[Solution]()"
   ]
  },
  {
   "cell_type": "markdown",
   "metadata": {},
   "source": [
    "## Solution+: $\\LaTeX$ interpretation\n",
    "\n",
    "You should quickly realise that $\\LaTeX$ is automatically removing the extra white space between words!\n",
    "As such, no matter how many times you consecutively hit the space bar, $\\LaTeX$ will interpret it as one space if there are no words in between.\n",
    "This means that you can add extra space between features in your source code without worrying about the effect on the layout of the document you are producing.\n",
    "Of course, you can _force_ $\\LaTeX$ to put extra white space between your words using commands like `\\hspace{2cm}` (forces a fixed gap of 2cm) or using `\\ \\ \\` (forces $\\LaTeX$ to put an extra space between words) if you want to.\n",
    "\n",
    "This \"removing the excess\" also applies to line breaks too.\n",
    "Notice how starting every sentence on a new line in the source code still produces one paragraph in the document:"
   ]
  },
  {
   "cell_type": "code",
   "execution_count": 9,
   "metadata": {},
   "outputs": [
    {
     "data": {
      "text/latex": [
       "When writing a paragraph it can be useful to start each sentance on a new line.\n",
       "This way, your source code is easier to read.\n",
       "It also means that if you have any errors in your document, $\\LaTeX$ will tell you exactly which sentance \n",
       "is causing the problem. \\newline\n",
       "\n",
       "If you want to start a new paragraph, you leave a blank line in the source code.\n",
       "However, if you want to force $\\LaTeX$ to create a new line in the same paragraph,\n",
       "(you could be writing a poem or sonnet for example), you can use a double-backslash, or the newline command:\n"
      ],
      "text/plain": [
       "<IPython.core.display.Latex object>"
      ]
     },
     "metadata": {},
     "output_type": "display_data"
    }
   ],
   "source": [
    "%%latex\n",
    "When writing a paragraph it can be useful to start each sentance on a new line.\n",
    "This way, your source code is easier to read.\n",
    "It also means that if you have any errors in your document, $\\LaTeX$ will tell you exactly which sentance \n",
    "is causing the problem. \\newline\n",
    "\n",
    "If you want to start a new paragraph, you leave a blank line in the source code.\n",
    "However, if you want to force $\\LaTeX$ to create a new line in the same paragraph,\n",
    "(you could be writing a poem or sonnet for example), you can use a double-backslash, or the newline command:"
   ]
  },
  {
   "cell_type": "code",
   "execution_count": 7,
   "metadata": {},
   "outputs": [
    {
     "data": {
      "image/png": "[encoded data removed]",
      "text/plain": [
       "<IPython.core.display.Image object>"
      ]
     },
     "execution_count": 7,
     "metadata": {},
     "output_type": "execute_result"
    }
   ],
   "source": [
    "%%pdflatex\n",
    "From fairest creatures we desire increase, \\newline\n",
    "That thereby beauty’s rose might never die. \\\\\n",
    "But as the riper should by time decease, \\\\\n",
    "His tender heir might bear his memory:"
   ]
  },
  {
   "cell_type": "markdown",
   "metadata": {},
   "source": [
    ":Solution+"
   ]
  },
  {
   "cell_type": "markdown",
   "metadata": {},
   "source": [
    "## Typesetting Text: caveats\n",
    "Some common characters have special meanings in $\\LaTeX$:\n",
    "- `%` percent sign (for comments, as we have seen)\n",
    "- `#` hash sign (technical use in user-defined commands)\n",
    "- `&` ampersand (used to align mathematical equations and tables)\n",
    "- `$` dollar sign (used to begin mathematical equations)\n",
    "\n",
    "If you want these to appear in the output you need to put a backslash before them as shown below, otherwise you'll get an error and your document won't be created.\n",
    "\n",
    "```latex\n",
    "\\$ %produces a dollar sign\n",
    "\\% %produces a percent sign and doesn't start a comment!\n",
    "\\& %produces an ampersand\n",
    "\\# %produces a hash sign\n",
    "```"
   ]
  },
  {
   "cell_type": "markdown",
   "metadata": {},
   "source": [
    "## Environments\n",
    "Environments are used to format blocks of text in a $\\LaTeX$ documents. \n",
    "Environments are delimited by an opening tag `\\begin` and a closing tag `\\end`. \n",
    "Everything inside those tags will be formatted in a special manner depending on the type of the environment.\n",
    "\n",
    "For example, the `itemize` and `enumerate` environments generate lists:"
   ]
  },
  {
   "cell_type": "code",
   "execution_count": 10,
   "metadata": {},
   "outputs": [
    {
     "data": {
      "image/png": "[encoded data removed]",
      "text/plain": [
       "<IPython.core.display.Image object>"
      ]
     },
     "execution_count": 10,
     "metadata": {},
     "output_type": "execute_result"
    }
   ],
   "source": [
    "%%pdflatex\n",
    "\\begin{itemize} %for bulleted lists\n",
    "    \\item Biscuits\n",
    "    \\item Tea\n",
    "\\end{itemize}\n",
    "\n",
    "\\begin{enumerate} % for numbered lists \n",
    "    \\item Biscuits\n",
    "    \\item Tea\n",
    "\\end{enumerate}"
   ]
  },
  {
   "cell_type": "markdown",
   "metadata": {},
   "source": [
    "## Packages\n",
    "All of the commands and environments we've used so far are built into $\\LaTeX$. \n",
    "_Packages_ are libraries of extra commands and environments for different purposes. \n",
    "We have to load each the packages we want to use with a `\\usepackage{}` command in the _preamble_ of the source file - this is the part of your `.tex` file before the `\\begin{document}` command. \n",
    "In the preamble, you define the type of document you are writing and the language, load extra packages that you need, and set several parameters like the font and text size.\n",
    "You can also use style files to load some of the information that would go in a preamble.\n",
    "\n",
    "For example, the `amsmath` package is a suppliment for the existing mathematical capabilities of $\\LaTeX$. \n",
    "In the following code, we create an _equation_ environment which is defined in the `amsmath` package. \n",
    "We will a more in-depth discussion of writing equations in the next session."
   ]
  },
  {
   "cell_type": "markdown",
   "metadata": {
    "slideshow": {
     "slide_type": "slide"
    }
   },
   "source": [
    "Your $\\LaTeX$ file should look like this:\n",
    "\n",
    "```latex\n",
    "\\documentclass{article}\n",
    "\n",
    "\\usepackage{amsmath} % preamble, in which we load the amsmath package. If you don't have this package installed on your machine, your editor will prompt you to download it. \n",
    "\n",
    "\\begin{document}\n",
    "\n",
    "\\begin{equation}\n",
    "  -u'' = -\\omega^2 u\n",
    "\\end{equation}\n",
    "\n",
    "\\end{document}\n",
    "```\n",
    "\n",
    "And below is the document output."
   ]
  },
  {
   "cell_type": "code",
   "execution_count": 11,
   "metadata": {},
   "outputs": [
    {
     "data": {
      "image/png": "[encoded data removed]",
      "text/plain": [
       "<IPython.core.display.Image object>"
      ]
     },
     "execution_count": 11,
     "metadata": {},
     "output_type": "execute_result"
    }
   ],
   "source": [
    "%%pdflatex\n",
    "\\begin{equation}\n",
    "    -u'' = -\\omega^2 u\n",
    "\\end{equation}"
   ]
  },
  {
   "cell_type": "markdown",
   "metadata": {},
   "source": [
    "## Information: What's this %%latex and %%pdflatex?\n",
    "\n",
    "You may notice the `%%latex` and `%%pdflatex` syntax that appears in these lessons above the $\\LaTeX$ commands we want to execute.\n",
    "This is simply an artifact of how we have written these lessons, and you can ignore it.\n",
    "For us, writing these lessons in jupyter notebooks, these commands effectively load our preamble for us, including the `amsmath` package."
   ]
  },
  {
   "cell_type": "markdown",
   "metadata": {},
   "source": [
    "## Information: Other useful packages:\n",
    "\n",
    "In addition to `amsmath`, there are some other packages that you might find yourself using quite often:\n",
    "\n",
    "- `amsthm`: for organising theorems, lemmas, proofs, and other things you often find in mathematics textbooks!\n",
    "- `beamer`: for creating presentations (and posters) - see [the lesson on beamer](./07_beamer.ipynb) for more information.\n",
    "- `tikz`: introduces tools to allow for drawing diagrams in a $\\LaTeX$ document.\n",
    "- `grahicx`: provides a variety of options for the layout of images and other figures.\n",
    "- `listings`: provides a good range of options for including source code in a $\\LaTeX$ document, if you want to share code you have written.\n",
    "\n",
    "For further refence, see [the exampls on Overleaf](https://www.overleaf.com/latex/examples) or [TeXample](http://texample.net).\n",
    "These websites have examples of (most of) these packages!"
   ]
  },
  {
   "cell_type": "markdown",
   "metadata": {},
   "source": [
    "## Exercise: Your second document\n",
    "\n",
    "Your first task is to typeset the following paragraph (in the quotation marks) in a $\\LaTeX$ document:\n",
    "\n",
    "\"\n",
    "In March 2006, Congress raised that ceiling an additional $\\$$0.79 trillion to $\\$$8.97 trillion, which is approximately 68 $\\%$ of the GDP. As of October 4, 2008, the Emergency Economic Stabilization Act of 2008 raised the current debt ceiling to $\\$$11.3 trillion.\n",
    "\"\n",
    "\n",
    "[Solution]()"
   ]
  },
  {
   "cell_type": "markdown",
   "metadata": {},
   "source": [
    "## Solution+: Your second document\n",
    "\n",
    "Your $\\LaTeX$ source code should look like this:\n",
    "\n",
    "```latex\n",
    "\\documentclass{article} %or whatever your favourite document class is, it doesn't matter at this point!\n",
    "\n",
    "\\begin{document}\n",
    "\n",
    "In March 2006, Congress raised that ceiling an additional \\$0.79 trillion to \\$8.97 trillion, which is approximately 68 \\% of the GDP. As of October 4, 2008, the Emergency Economic Stabilization Act of 2008 raised the current debt ceiling to \\$11.3 trillion.\n",
    "\n",
    "\\end{document}\n",
    "```\n",
    "And that will render like this:"
   ]
  },
  {
   "cell_type": "code",
   "execution_count": 12,
   "metadata": {},
   "outputs": [
    {
     "data": {
      "image/png": "[encoded data removed]",
      "text/plain": [
       "<IPython.core.display.Image object>"
      ]
     },
     "execution_count": 12,
     "metadata": {},
     "output_type": "execute_result"
    }
   ],
   "source": [
    "%%pdflatex\n",
    "In March 2006, Congress raised that ceiling an additional \\$0.79 trillion to \\$8.97 trillion, \n",
    "which is approximately 68 % of the GDP. \n",
    "As of October 4, 2008, the Emergency Economic Stabilization Act of 2008 raised the current debt\n",
    "ceiling to \\$11.3 trillion."
   ]
  },
  {
   "cell_type": "markdown",
   "metadata": {},
   "source": [
    ":Solution+"
   ]
  },
  {
   "cell_type": "markdown",
   "metadata": {
    "slideshow": {
     "slide_type": "slide"
    }
   },
   "source": [
    "## Key Points:\n",
    "- You can install $\\LaTeX$ on your local device, or use an online service.\n",
    "- We use `\\documentclass{}` to tell $\\LaTeX$ which kind of document we are writing.\n",
    "- We display special characters by putting a backslash before them.\n",
    "- Environments are used to format blocks of text.\n",
    "- We can load extra packages in the _preamble_, giving us more tools to work with."
   ]
  }
 ],
 "metadata": {
  "anaconda-cloud": {},
  "celltoolbar": "Slideshow",
  "kernelspec": {
   "display_name": "Python 3",
   "language": "python",
   "name": "python3"
  },
  "language_info": {
   "codemirror_mode": {
    "name": "ipython",
    "version": 3
   },
   "file_extension": ".py",
   "mimetype": "text/x-python",
   "name": "python",
   "nbconvert_exporter": "python",
   "pygments_lexer": "ipython3",
   "version": "3.7.3"
  }
 },
 "nbformat": 4,
 "nbformat_minor": 2
}
