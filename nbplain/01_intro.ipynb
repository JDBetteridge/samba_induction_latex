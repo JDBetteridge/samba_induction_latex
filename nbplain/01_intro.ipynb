{
 "cells": [
  {
   "cell_type": "markdown",
   "metadata": {
    "slideshow": {
     "slide_type": "slide"
    }
   },
   "source": [
    "# Introduction"
   ]
  },
  {
   "cell_type": "markdown",
   "metadata": {
    "slideshow": {
     "slide_type": "subslide"
    }
   },
   "source": [
    "## Overview:\n",
    "- **Teaching:** 15 min\n",
    "- **Exercises:** 10 min\n",
    "\n",
    "**Objectives**\n",
    "- write your first document in $\\LaTeX$"
   ]
  },
  {
   "cell_type": "markdown",
   "metadata": {
    "slideshow": {
     "slide_type": "slide"
    }
   },
   "source": [
    "## Why $\\LaTeX$\n",
    "- it makes beautiful documents, especially mathematics\n",
    "- it was created by scientists for scientists - large and active community\n",
    "- it is powerful - provide packages for papers, presentations, etc.\n",
    "\n",
    "## How does it work\n",
    "- write in plain text with commands that describe its structure and meaning\n",
    "- The LaTex program processes your text and commands to produce a beautifully formatted document"
   ]
  },
  {
   "cell_type": "markdown",
   "metadata": {
    "slideshow": {
     "slide_type": "slide"
    }
   },
   "source": [
    "## Getting started with Overleaf\n",
    "- Overleaf is a website for writing documents in $\\LaTeX$\n",
    "- It compiles your $\\LaTeX$ automatically to show you the results\n",
    "- As we go through this introduction, try out examples by typing them into the example document on Overleaf https://www.overleaf.com/"
   ]
  },
  {
   "cell_type": "markdown",
   "metadata": {},
   "source": [
    "Let's firstly create a new project for this session. Before you can do it, you should register an account in order to use the online $\\LaTeX$ service."
   ]
  },
  {
   "cell_type": "markdown",
   "metadata": {
    "slideshow": {
     "slide_type": "slide"
    }
   },
   "source": [
    "![Create a new project](../images/create_new_project.png)"
   ]
  },
  {
   "cell_type": "markdown",
   "metadata": {},
   "source": [
    "You should see an interface like the following. There are three coloums: the left-end coloum shows all the files/folder under your current project; the middle conloum is where you type your source $\\LaTeX$ code; the column on the right shows you the output of your document. As you go through this introcution course, you should type/copy provided code to the input pane (the middle coloumn) and click the `Recompile` buttom on the top of the output pane (the right coloum) to see the result."
   ]
  },
  {
   "cell_type": "markdown",
   "metadata": {},
   "source": [
    "![Create a new project](../images/console.png)"
   ]
  },
  {
   "cell_type": "markdown",
   "metadata": {
    "slideshow": {
     "slide_type": "slide"
    }
   },
   "source": [
    "Now empty your input pane and complie the following code instead. This is an example of a minimal Latex document."
   ]
  },
  {
   "cell_type": "markdown",
   "metadata": {},
   "source": [
    "$\\textbf{Input}:$\n",
    "\n",
    "```latex\n",
    "\\documentclass{article}\n",
    "\\begin{document}\n",
    "Hello World! %your content goes here\n",
    "\\end{document}\n",
    "```"
   ]
  },
  {
   "cell_type": "markdown",
   "metadata": {
    "slideshow": {
     "slide_type": "slide"
    }
   },
   "source": [
    "- commands start with backslash `\\`\n",
    "- every document starts with a `\\documentclass` command\n",
    "- the argument in curly braces `{}` tells LaTex what kind of document we are creating: an article in this case\n",
    "- a percent sign `%` starts a comment - LaTex will ignore the rest of the line"
   ]
  },
  {
   "cell_type": "markdown",
   "metadata": {},
   "source": [
    "## Typesetting Text\n",
    "You can start writing your document by typing text between `\\begin{document} ... \\end{document}`."
   ]
  },
  {
   "cell_type": "markdown",
   "metadata": {},
   "source": [
    "## Exercise: Try to type the following text and see what you get\n",
    "\n",
    "- Fish and  $\\, \\, \\, \\, \\, \\, $    chips!"
   ]
  },
  {
   "cell_type": "markdown",
   "metadata": {},
   "source": [
    "## Typesetting Text: caveats\n",
    "Some common characters have special meanings in LaTex:\n",
    "- `%` percent sign\n",
    "- `#` hash sign\n",
    "- `&` ampersand\n",
    "- `$` dollar sign\n",
    "If you want these to appear in the oupt, you need to put a backslash before them. Otherwise you will get an error. E.g. to get '$%&#', you should type\n",
    "\n",
    "```latex\n",
    "\\$\\%\\&\\#\n",
    "```"
   ]
  },
  {
   "cell_type": "markdown",
   "metadata": {},
   "source": [
    "## Exercise: Typeset the following paragraph in LaTex\n",
    "\n",
    "In March 2006, Congress raised that ceiling an additional $\\$$0.79 trillion to $\\$$8.97 trillion, which is approximately 68 $\\%$ of GDP. As of October 4, 2008, the “Emergency Economic Stabilization Act of 2008” raised the current debt ceiling to $11.3 trillion.\n"
   ]
  },
  {
   "cell_type": "markdown",
   "metadata": {},
   "source": [
    "## Environment\n",
    "Environments are used to format blocks of text in a $\\LaTeX$ documents. Environments are delimited by an opening tag `\\begin` and a closing tag `\\end`. Everything inside those tags will be formatted in a special manner depending on the type of the environment.\n",
    "\n",
    "For example, the `itemize` and `enumerate` environments generate lists:"
   ]
  },
  {
   "cell_type": "markdown",
   "metadata": {},
   "source": [
    "$\\textbf{Input}:$\n",
    "\n",
    "```latex\n",
    "\\begin{itemize} % for bullet points \n",
    "\\item Biscuits\n",
    "\\item Tea\n",
    "\\end{itemize}\n",
    "\\begin{enumerate} % for numbers \n",
    "\\item Biscuits\n",
    "\\item Tea\n",
    "\\end{enumerate}\n",
    "```"
   ]
  },
  {
   "cell_type": "markdown",
   "metadata": {},
   "source": [
    "## Packages\n",
    "All of the commands and environments we've used so far are built into $\\LaTeX$. $\\textit{Packages}$ are libraries of extra commands and environments for different purposes. We have to load each the packages we want to use with a `\\usepackage` command in the $\\textit{preamble}$. The part of your .tex file before the `\\begin{document}` is called the $\\textit{preamble}$. In the preamble, you define the type of document you are writing and the language, load extra packages you will need, and set several parameters.\n",
    "\n",
    "For example, the $\\textit{amsmath}$ package is for writing mathemtics expressions. In the following code, we create a $\\textit{equation}$ environment which is defined in the $\\textit{amsmath}$ package. We will have more example of writing mathematics in the next session."
   ]
  },
  {
   "cell_type": "markdown",
   "metadata": {
    "slideshow": {
     "slide_type": "slide"
    }
   },
   "source": [
    "$\\textbf{Input}:$\n",
    "\n",
    "```latex\n",
    "\\documentclass{article}\n",
    "\\usepackage{amsmath} % preamble \n",
    "\n",
    "\\begin{document}\n",
    "\n",
    "\\begin{equation}\n",
    "  \\Omega = \\sum_{k=1}^{n} \\omega_k\n",
    "\\end{equation}\n",
    "\n",
    "\\end{document}\n",
    "```"
   ]
  },
  {
   "cell_type": "markdown",
   "metadata": {},
   "source": [
    "other commonly used packages:\n",
    "\n",
    "- $\\textit{beamer}$: for presentations\n",
    "- $\\textit{todonotes}$: comments and todo management\n",
    "- $\\textit{tikz}$: make amazing graphics in $\\LaTeX$ document\n",
    "- $\\textit{pgfplots}$: create graphs in $\\LaTeX$ \n",
    "- $\\textit{listings}$:source code printer for $\\LaTeX$ \n",
    "- $\\textit{spreadtab}$: create spreadsheets in $\\LaTeX$ \n",
    "- $\\textit{gchords}$: guitar chords and tabulature\n",
    "- $\\textit{cwpuzzle}$: cressword puzzles\n",
    "\n",
    "Further reference:\n",
    "\n",
    "- https://www.overleaf.com/latex/examples\n",
    "- http://texample.net for examples of (most of) these packages"
   ]
  },
  {
   "cell_type": "markdown",
   "metadata": {
    "slideshow": {
     "slide_type": "slide"
    }
   },
   "source": [
    "## Key Points:\n",
    "- lauch LaTex on your device with local or online service\n",
    "- create your first LaTex document\n",
    "- display special characters\n",
    "- environments are used to format blocks of text\n",
    "- use packages for extra environments and commands"
   ]
  }
 ],
 "metadata": {
  "celltoolbar": "Slideshow",
  "kernelspec": {
   "display_name": "Python 3",
   "language": "python",
   "name": "python3"
  },
  "language_info": {
   "codemirror_mode": {
    "name": "ipython",
    "version": 2
   },
   "file_extension": ".py",
   "mimetype": "text/x-python",
   "name": "python",
   "nbconvert_exporter": "python",
   "pygments_lexer": "ipython2",
   "version": "2.7.16"
  }
 },
 "nbformat": 4,
 "nbformat_minor": 2
}
