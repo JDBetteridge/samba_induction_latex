{
 "cells": [
  {
   "cell_type": "markdown",
   "metadata": {
    "slideshow": {
     "slide_type": "slide"
    }
   },
   "source": [
    "# Beamer"
   ]
  },
  {
   "cell_type": "markdown",
   "metadata": {
    "slideshow": {
     "slide_type": "slide"
    }
   },
   "source": [
    "## Overview:\n",
    "- **Teaching:** 15 min\n",
    "- **Exercises:** 0 min\n",
    "\n",
    "**Objectives**\n",
    "- Understand how to edit a Beamer template for a poster.\n",
    "- Understand how to edit a Beamer template for slides."
   ]
  },
  {
   "cell_type": "markdown",
   "metadata": {},
   "source": [
    "## Making a poster - Get Started\n",
    "\n",
    "Choose a template from https://www.overleaf.com/gallery/tagged/poster/. "
   ]
  },
  {
   "cell_type": "markdown",
   "metadata": {},
   "source": [
    "# Example"
   ]
  },
  {
   "cell_type": "markdown",
   "metadata": {
    "collapsed": false
   },
   "source": [
    "![](../images/beamer_template_screenshot.png)"
   ]
  },
  {
   "cell_type": "markdown",
   "metadata": {},
   "source": [
    "In Overleaf your template should look something like this. If you want to use your own latex editor download all the source files.\n"
   ]
  },
  {
   "cell_type": "markdown",
   "metadata": {},
   "source": [
    "You should be able to work through the text and replace it with your own. In some templates information such as the title and author are set in a style file. You can edit these in the style file but if you want the display to be the same be sure to only change the text inside the commands."
   ]
  },
  {
   "cell_type": "markdown",
   "metadata": {},
   "source": [
    "# Preamble"
   ]
  },
  {
   "cell_type": "markdown",
   "metadata": {},
   "source": [
    "When editing the template be careful not to remove \n",
    "```latex\n",
    "\\usepackage[scale=1.24]{beamerposter} % Use the beamerposter package for laying out the poster \n",
    "```\n",
    "and \n",
    "```latex\n",
    "\\usetheme{confposter} % Use the confposter theme supplied with this template \n",
    "```\n",
    "These load the parts of beamer that are needed for making the poster. "
   ]
  },
  {
   "cell_type": "markdown",
   "metadata": {},
   "source": [
    "# Title\n",
    "To edit the shape of the title section 'beamerthemeconfposter.sty' needs to be edited."
   ]
  },
  {
   "cell_type": "markdown",
   "metadata": {},
   "source": [
    "A one column title as in the template looks like this.\n",
    "```latex\n",
    "\n",
    "%==============================================================================\n",
    "% build the poster title\n",
    "%==============================================================================\n",
    "\\setbeamertemplate{headline}{\n",
    " \\leavevmode\n",
    "  \\begin{columns}\n",
    "   \\begin{column}{\\linewidth}\n",
    "    \\vskip1cm\n",
    "    \\centering\n",
    "    \\usebeamercolor{title in headline}{\\color{jblue}\\Huge{\\textbf{\\inserttitle}}\\\\[0.5ex]}\n",
    "    \\usebeamercolor{author in headline}{\\color{fg}\\Large{\\insertauthor}\\\\[1ex]}\n",
    "    \\usebeamercolor{institute in headline}{\\color{fg}\\large{\\insertinstitute}\\\\[1ex]}\n",
    "    \\vskip1cm\n",
    "   \\end{column}\n",
    "   \\vspace{1cm}\n",
    "  \\end{columns}\n",
    " \\vspace{0.5in}\n",
    " \\hspace{0.5in}\\begin{beamercolorbox}[wd=35in,colsep=0.15cm]{cboxb}\\end{beamercolorbox}\n",
    " \\vspace{0.1in}\n",
    "}\n",
    "```"
   ]
  },
  {
   "cell_type": "markdown",
   "metadata": {},
   "source": [
    "To make the title two columns this could be changed to\n",
    "\n",
    "```latex\n",
    "\n",
    "%==============================================================================\n",
    "% build the poster title\n",
    "%==============================================================================\n",
    "\\setbeamertemplate{headline}{\n",
    " \\leavevmode\n",
    "  \\begin{columns}\n",
    "   \\begin{column}{0.5\\linewidth}\n",
    "    \\vskip1cm\n",
    "    \\centering\n",
    "    \\usebeamercolor{title in headline}{\\color{jblue}\\Huge{\\textbf{\\inserttitle}}\\\\[0.5ex]}\n",
    "   \\end{column}\n",
    "   \\begin{column}{0.5\\linewidth}\n",
    "    \\vskip1cm\n",
    "    \\centering\n",
    "    \\usebeamercolor{author in headline}{\\color{fg}\\Large{\\insertauthor}\\\\[1ex]}\n",
    "    \\usebeamercolor{institute in headline}{\\color{fg}\\large{\\insertinstitute}\\\\[1ex]}\n",
    "    \\vskip1cm\n",
    "   \\end{column}\n",
    "   \\vspace{1cm}\n",
    "  \\end{columns}\n",
    " \\vspace{0.5in}\n",
    " \\hspace{0.5in}\\begin{beamercolorbox}[wd=35in,colsep=0.15cm]{cboxb}\\end{beamercolorbox}\n",
    " \\vspace{0.1in}\n",
    "}\n",
    "```"
   ]
  },
  {
   "cell_type": "markdown",
   "metadata": {},
   "source": [
    "Try changing the style file in the template to have three columns and change the colours."
   ]
  },
  {
   "cell_type": "markdown",
   "metadata": {},
   "source": [
    "# Block and Alertblock"
   ]
  },
  {
   "cell_type": "markdown",
   "metadata": {},
   "source": [
    "Beamer uses blocks for text. These use the format:\n",
    "\n",
    "```latex\n",
    "\n",
    "\\begin{block}{title}\n",
    "\n",
    "Text in block\n",
    "\n",
    "\\end{block}\n",
    "```\n",
    "\n",
    "```latex\n",
    "\n",
    "\\begin{alertblock}{title}\n",
    "\n",
    "Text in alertblock\n",
    "\n",
    "\\end{alertblock}\n",
    "```\n"
   ]
  },
  {
   "cell_type": "markdown",
   "metadata": {},
   "source": [
    "To change the shapes of the block you must edit `beamerthemeconfposter.sty`. It is recommended that you don't do this until you are familiar with $\\LaTeX$."
   ]
  },
  {
   "cell_type": "markdown",
   "metadata": {},
   "source": [
    "To change the colours of the box use:\n",
    "\n",
    "```latex\n",
    "\\setbeamercolor{block title}{fg=ngreen,bg=white} % Colors of the block titles\n",
    "\\setbeamercolor{block body}{fg=black,bg=white} % Colors of the body of blocks\n",
    "\\setbeamercolor{block alerted title}{fg=white,bg=dblue!70} % Colors of the highlighted block titles\n",
    "\\setbeamercolor{block alerted body}{fg=black,bg=dblue!10} % Colors of the body of highlighted blocks\n",
    "% Many more colors are available for use in beamerthemeconfposter.sty\n",
    "```\n",
    "fg changes the main colour of the block and bg changes the border colour."
   ]
  },
  {
   "cell_type": "markdown",
   "metadata": {},
   "source": [
    "# Slides - Get Started"
   ]
  },
  {
   "cell_type": "markdown",
   "metadata": {},
   "source": [
    "There are lots of other ways of making slides with maths but Beamer is one of the most poopular.\n",
    "Start by choosing a theme: http://www.deic.uab.es/~iblanes/beamer_gallery/index_by_theme.html the majority of these themes are named after cities."
   ]
  },
  {
   "cell_type": "markdown",
   "metadata": {},
   "source": [
    "Instead of having one frame like the poster slides use a frame for each slide. You should start with a skeleton document like this.\n",
    "```latex\n",
    "\\documentclass[11pt]{beamer}\n",
    "\\usetheme{Warsaw}\n",
    "\\usepackage[utf8]{inputenc}\n",
    "\\usepackage{amsmath}\n",
    "\\usepackage{amsfonts}\n",
    "\\usepackage{amssymb}\n",
    "%\\author{}\n",
    "%\\title{}\n",
    "%\\setbeamercovered{transparent} \n",
    "%\\setbeamertemplate{navigation symbols}{} \n",
    "%\\logo{} \n",
    "%\\institute{} \n",
    "%\\date{} \n",
    "%\\subject{} \n",
    "\\begin{document}\n",
    "\n",
    "\\begin{frame}{}\n",
    "\\titlepage\n",
    "\\end{frame}\n",
    "\n",
    "\\begin{frame}{}\n",
    "\\tableofcontents\n",
    "\\end{frame}\n",
    "\n",
    "\\begin{frame}{frame title}\n",
    "\n",
    "\\end{frame}\n",
    "\n",
    "\\end{document}\n",
    "```"
   ]
  },
  {
   "cell_type": "markdown",
   "metadata": {},
   "source": [
    "You can then fill in the text you want in the slides and use regular latex formatting for equations and pictures."
   ]
  },
  {
   "cell_type": "markdown",
   "metadata": {},
   "source": [
    "If you set the title and author this will be used to generate the title slide. You can also load these from a style file if you want to keep these the same as other documents in your project."
   ]
  },
  {
   "cell_type": "markdown",
   "metadata": {},
   "source": [
    "# Pauses\n",
    "To click parts of a slide on you can use pauses\n",
    "```latex\n",
    "\\begin{frame}{frame title}\n",
    "First text bit\n",
    "\\pause\n",
    "Second text bit\n",
    "\\end{frame}\n",
    "```\n",
    "This generates two slides so that as you click through it appears that part of the text has appeared.\n",
    "```latex\n",
    "\\setbeamercovered{transparent}\n",
    "```\n",
    "determines whether you can see part of the text before it has been clicked to appear."
   ]
  },
  {
   "cell_type": "markdown",
   "metadata": {},
   "source": [
    "You can use \n",
    "```latex\n",
    "\\section{Section name}\n",
    "``` \n",
    "to group slides for the contents.\n",
    "The section command should go before the frame which starts the section."
   ]
  },
  {
   "cell_type": "markdown",
   "metadata": {
    "slideshow": {
     "slide_type": "slide"
    }
   },
   "source": [
    "You can use blocks in the same way as the poster."
   ]
  },
  {
   "cell_type": "markdown",
   "metadata": {},
   "source": [
    "# Key Points:\n",
    "- Beamer is useful for posters and slides.\n",
    "- Starting with a template allows you to fit your own text.\n",
    "- Use `alertblock` and `block` to format boxes of text."
   ]
  }
 ],
 "metadata": {
  "anaconda-cloud": {},
  "celltoolbar": "Slideshow",
  "kernelspec": {
   "display_name": "Python 2",
   "language": "python",
   "name": "python2"
  },
  "language_info": {
   "codemirror_mode": {
    "name": "ipython",
    "version": 2
   },
   "file_extension": ".py",
   "mimetype": "text/x-python",
   "name": "python",
   "nbconvert_exporter": "python",
   "pygments_lexer": "ipython2",
   "version": "2.7.15+"
  }
 },
 "nbformat": 4,
 "nbformat_minor": 2
}
