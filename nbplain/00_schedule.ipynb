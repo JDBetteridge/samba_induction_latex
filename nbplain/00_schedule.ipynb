{
 "cells": [
  {
   "cell_type": "markdown",
   "metadata": {
    "slideshow": {
     "slide_type": "slide"
    }
   },
   "source": [
    "# $\\LaTeX$ Introduction \n",
    "\n",
    "This is an introduction to $\\LaTeX$ for those who have little to no experience in writing a document using it."
   ]
  },
  {
   "cell_type": "markdown",
   "metadata": {
    "slideshow": {
     "slide_type": "slide"
    }
   },
   "source": [
    "## Prerequisites:\n",
    "\n",
    "- Install LaTex on your device from https://www.latex-project.org/get/. You may also want to install a $\\LaTeX$ editor such as [TeXMaker](https://www.xm1math.net/texmaker/) or [MikTeX](https://miktex.org/).\n",
    "- Alternatively, register an account for LaTex online service like overleaf https://www.overleaf.com. Overleaf has a free-to-use service which is sufficient for most purposes."
   ]
  },
  {
   "cell_type": "markdown",
   "metadata": {},
   "source": [
    "## Information:\n",
    "If you are looking for the [worksheets](./worksheet/01_latex.html) or their [solutions](./worksheet/01_latex-soln.html) click on the links."
   ]
  },
  {
   "cell_type": "markdown",
   "metadata": {
    "slideshow": {
     "slide_type": "slide"
    }
   },
   "source": [
    "## Schedule:\n",
    "\n",
    "| Time | Lesson | Description |\n",
    "|:-:|:--|--:|\n",
    "| 0:15 | [Introduction](01_intro.ipynb) | Introduction |\n",
    "| 0:45 | [Writing mathematics](02_writing_mathematics.ipynb) | Writing Mathematics |\n",
    "| 1:05 | [Structure documents](03_structured_documents.ipynb) | Structured Documents |\n",
    "| 1:25 | [Pictures](04_pictures.ipynb) | Add pictures to your documents|\n",
    "| 1:45 | [Reference](05_reference.ipynb) | Add bibliography to your documents |\n",
    "\n",
    "### More advanced topics\n",
    "\n",
    "The first 5 lessons will provide you with the teaching to begin writing documents in $\\LaTeX$, however will not cover some of its more useful (but slightly more advanced) functionality.\n",
    "For those who are interested, there are two further lessons which explore two of $\\LaTeX$'s such abilities:\n",
    "\n",
    "| Time | Lesson | Description |\n",
    "|:-:|:-|-:|\n",
    "| 2:00 | [Style File](06_stylefile.ipynb)| Using a style file with a main tex |\n",
    "| 2:15 | [Beamer](07_beamer.ipynb) | Making a Beamer poster and slides from template |\n"
   ]
  },
  {
   "cell_type": "markdown",
   "metadata": {},
   "source": [
    "## Instruction\n",
    "\n",
    "These lessons cover a simple getting-started guide to creating documents with $\\LaTeX$.\n",
    "There will be some examples and exercises along the way for you to try, along with code samples that you can render on your local machine.\n",
    "Feel free to adapt or use these examples as a basis for your future work!"
   ]
  },
  {
   "cell_type": "markdown",
   "metadata": {},
   "source": [
    "## Information: Worksheet\n",
    "\n",
    "The $\\LaTeX$ skills worksheet that accompanies these lessons can be accessed [using this link](worksheet/01_latex.html). The solutions can be accessed from the relevant exercises on the worksheet itself."
   ]
  },
  {
   "cell_type": "markdown",
   "metadata": {
    "slideshow": {
     "slide_type": "slide"
    }
   },
   "source": [
    "## Information: References\n",
    "\n",
    "Further information can be found in the following resources:\n",
    "\n",
    "-https://www.overleaf.com/learn/latex/Free_online_introduction_to_LaTeX_(part_1)\n",
    "\n",
    "-https://people.bath.ac.uk/jdb55/samba_training/samba-training/files/Maths_in_LaTeX.pdf\n",
    "\n",
    "-https://en.wikibooks.org/wiki/LaTeX"
   ]
  }
 ],
 "metadata": {
  "anaconda-cloud": {},
  "celltoolbar": "Slideshow",
  "kernelspec": {
   "display_name": "Python 3",
   "language": "python",
   "name": "python3"
  },
  "language_info": {
   "codemirror_mode": {
    "name": "ipython",
    "version": 3
   },
   "file_extension": ".py",
   "mimetype": "text/x-python",
   "name": "python",
   "nbconvert_exporter": "python",
   "pygments_lexer": "ipython3",
   "version": "3.7.4"
  }
 },
 "nbformat": 4,
 "nbformat_minor": 2
}
