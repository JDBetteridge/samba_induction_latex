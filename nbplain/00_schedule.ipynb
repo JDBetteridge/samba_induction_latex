{
 "cells": [
  {
   "cell_type": "markdown",
   "metadata": {
    "slideshow": {
     "slide_type": "slide"
    }
   },
   "source": [
    "# LaTex Introduction \n",
    "\n",
    "This is an introduction to LaTex for beginners."
   ]
  },
  {
   "cell_type": "markdown",
   "metadata": {
    "slideshow": {
     "slide_type": "slide"
    }
   },
   "source": [
    "## Prerequisites:\n",
    "\n",
    "- install LaTex on your device from https://www.latex-project.org/get/ \n",
    "\n",
    "\n",
    "- alternatively, register an account for LaTex online service, e.g. overleaf https://www.overleaf.com"
   ]
  },
  {
   "cell_type": "markdown",
   "metadata": {
    "slideshow": {
     "slide_type": "slide"
    }
   },
   "source": [
    "## Schedule:\n",
    "\n",
    "| Time | Episode | Description |\n",
    "|---|---|---|\n",
    "| 0:15 | [Introduction](01_intro.ipynb) | Introduction |\n",
    "| 0:45 | [Writing mathematics](02_writing_mathematics.ipynb) | Writing Mathematics |\n",
    "| 1:05 | [Structure documents](03_structured_documents.ipynb) | Structured Documents |\n",
    "| 1:25 | [Pitctures](04_pictures.ipynb) | Add pictures to your documents|"
   ]
  },
  {
   "cell_type": "markdown",
   "metadata": {
    "slideshow": {
     "slide_type": "slide"
    }
   },
   "source": [
    "## Information: Reference\n",
    "\n",
    "Further information can be found in the following resources:\n",
    "\n",
    "-https://www.overleaf.com/learn/latex/Free_online_introduction_to_LaTeX_(part_1)\n",
    "\n",
    "-https://people.bath.ac.uk/jdb55/samba_training/samba-training/files/Maths_in_LaTeX.pdf\n",
    "\n",
    "-https://en.wikibooks.org/wiki/LaTeX"
   ]
  }
 ],
 "metadata": {
  "celltoolbar": "Slideshow",
  "kernelspec": {
   "display_name": "Python 2",
   "language": "python",
   "name": "python2"
  },
  "language_info": {
   "codemirror_mode": {
    "name": "ipython",
    "version": 2
   },
   "file_extension": ".py",
   "mimetype": "text/x-python",
   "name": "python",
   "nbconvert_exporter": "python",
   "pygments_lexer": "ipython2",
   "version": "2.7.16"
  }
 },
 "nbformat": 4,
 "nbformat_minor": 2
}
