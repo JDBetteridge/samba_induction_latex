{
 "cells": [
  {
   "cell_type": "markdown",
   "metadata": {
    "slideshow": {
     "slide_type": "slide"
    }
   },
   "source": [
    "# LaTeX Resources"
   ]
  },
  {
   "cell_type": "markdown",
   "metadata": {
    "slideshow": {
     "slide_type": "subslide"
    }
   },
   "source": [
    "## Overview\n",
    "\n",
    "**Questions**\n",
    "- How do I create a LaTeX document?\n",
    "- How do I write maths in a LaTeX document?\n",
    "- Where can I find LaTeX help?\n",
    "\n",
    "**Objectives**\n",
    "- Write my first LaTeX document"
   ]
  },
  {
   "cell_type": "markdown",
   "metadata": {
    "slideshow": {
     "slide_type": "slide"
    }
   },
   "source": [
    "## Information: New to LaTeX\n",
    "\n",
    "If you have never written a LaTeX document, the overleaf introduction is a good start:\n",
    "\n",
    "[Overleaf](https://www.overleaf.com/learn/latex/Free_online_introduction_to_LaTeX_%28part_1%29)"
   ]
  },
  {
   "cell_type": "markdown",
   "metadata": {
    "slideshow": {
     "slide_type": "slide"
    }
   },
   "source": [
    "## Information: Maths in LaTeX\n",
    "\n",
    "Moodle also has a LaTeX course that you can enroll yourself on, which has similar resources to this page:\n",
    "\n",
    "[Moodle](https://moodle.bath.ac.uk/course/view.php?id=56782)\n",
    "\n",
    "The slides are available [here](../files/Maths_in_LaTeX.pdf)."
   ]
  },
  {
   "cell_type": "markdown",
   "metadata": {
    "slideshow": {
     "slide_type": "slide"
    }
   },
   "source": [
    "## Information: For future reference\n",
    "\n",
    "A useful reference for LaTeX is available on wikibooks:\n",
    "\n",
    "[Wikibooks](https://en.wikibooks.org/wiki/LaTeX)"
   ]
  }
 ],
 "metadata": {
  "celltoolbar": "Slideshow",
  "kernelspec": {
   "display_name": "Python 3",
   "language": "python",
   "name": "python3"
  },
  "language_info": {
   "codemirror_mode": {
    "name": "ipython",
    "version": 3
   },
   "file_extension": ".py",
   "mimetype": "text/x-python",
   "name": "python",
   "nbconvert_exporter": "python",
   "pygments_lexer": "ipython3",
   "version": "3.7.0"
  }
 },
 "nbformat": 4,
 "nbformat_minor": 2
}
