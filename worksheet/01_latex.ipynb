{
 "cells": [
  {
   "cell_type": "markdown",
   "metadata": {
    "collapsed": true
   },
   "source": [
    "# Writing a really exciting $\\LaTeX$ document\n",
    "This worksheet is really simple, just recreate what you see, but in a $\\LaTeX$ document."
   ]
  },
  {
   "cell_type": "markdown",
   "metadata": {},
   "source": [
    "## Exercise: 1: Listing things\n",
    "\n",
    "Okay, lets start with a list of my favourite things:\n",
    "- Raindrops on _roses_\n",
    "- Whiskers on _kittens_\n",
    "- Bright copper _kettles_\n",
    "- Warm woolen _mittens_\n",
    "- Brown paper _packages_ tied up with string\n",
    "\n",
    "How to make scones:\n",
    "1. Heat the oven to 220C/425F/Gas 7. Lightly grease a baking sheet.\n",
    "2. \n",
    "    1. Mix together the **flour & salt** and rub in the **butter**.\n",
    "    2. Stir in the **sugar** & then the **milk** to get a soft dough.\n",
    "3. Turn on to a floured work surface and knead very lightly. Pat out to a round 2cm/(3/4)in thick. Use a 5cm/2in cutter to stamp out rounds and place on a baking sheet. Lightly knead together the rest of the dough and stamp out more scones to use it all up.\n",
    "4. Brush the tops of the scones with the beaten egg. Bake for 12-15 minutes until well risen and golden.\n",
    "5. Cool on a wire rack and serve with butter and good **jam** and maybe some clotted cream.\n",
    "\n",
    "Notice the **boldface** and _italics_, as well as the special symbol &!"
   ]
  },
  {
   "cell_type": "markdown",
   "metadata": {},
   "source": [
    "## Exercise: 2: Writing Maths\n",
    "Rewrite all of these, hopefully familiar equations in $\\LaTeX$.\n",
    "\n",
    "A Quadratic equation: $ ax^2 + bx + c = 0 $.\n",
    "\n",
    "The quadratic formula:\n",
    "$$\n",
    "x = \\frac{-b\\pm\\sqrt{b^2 - 4ac}}{2a}.\n",
    "$$\n",
    "\n",
    "A matrix equation\n",
    "$$\n",
    "\\begin{pmatrix}\n",
    "    a & \\log{b}\\\\\n",
    "    c & d\n",
    "\\end{pmatrix}\n",
    "\\begin{pmatrix}\n",
    "x\\\\\n",
    "y\n",
    "\\end{pmatrix}\n",
    "=\\begin{pmatrix}\n",
    "0\\\\\n",
    "0\n",
    "\\end{pmatrix}\n",
    "$$\n",
    "\n",
    "can be rewritten as a system of linear equations\n",
    "$$\n",
    "\\begin{align}\n",
    "ax + \\log{(b)}y &= 0\\\\\n",
    "cx + dy &= 0.\n",
    "\\end{align}\n",
    "$$\n",
    "\n",
    "The Riemann zeta function\n",
    "$$\n",
    "\\zeta(s) = \\sum_{n=1}^\\infty \\frac{1}{n^s}\n",
    "$$\n",
    "\n",
    "can be rewritten as\n",
    "$$\n",
    "\\zeta(s) = \\frac{1}{\\Gamma(s)} \\int_0^\\infty \\frac{x^{s-1}}{e^x - 1}\\ dx,\n",
    "$$\n",
    "where\n",
    "$$\n",
    "\\Gamma(s) = \\int_0^\\infty e^{-x}x^{s-1}\\ dx.\n",
    "$$"
   ]
  },
  {
   "cell_type": "markdown",
   "metadata": {},
   "source": [
    "## Exercise: 3: Time for a table\n",
    "A timetable!\n",
    "\n",
    "|Time | Activity | Energy Levels |\n",
    "|----|---|---:|\n",
    "| 0730 | Get Up | 15% |\n",
    "| 0745 | Eat Breakfast | 100% |\n",
    "| 0815 | Go to Office | 80% |\n",
    "| 0900 | Do Research | 20% |\n",
    "| 1230 | Have Lunch | 100% |\n",
    "| 1330 | More Research | 0% |\n",
    "| 1730 | Go Home | -10% |\n",
    "| 2000 | Make Tea | 50% |\n",
    "| 2330 | Sleep | 40% |\n",
    "\n",
    "The $\\LaTeX$ table will probably look differet, but should contain the same information."
   ]
  },
  {
   "cell_type": "markdown",
   "metadata": {},
   "source": [
    "## Exercise: 4: Ooh, what a picture!\n",
    "A picture of Donald Knuth, creator of $\\TeX$, playing the organ.\n",
    "https://cs.stanford.edu/~knuth/dek-badge-20120614.jpg\n",
    "![](../images/knuth.jpg)\n",
    "Add a caption explaining who took the picture, and where it came from!\n",
    "\n",
    "Hint:\n",
    "```bash\n",
    "    https://cs.stanford.edu/~knuth\n",
    "```"
   ]
  }
 ],
 "metadata": {
  "kernelspec": {
   "display_name": "Python 3",
   "language": "python",
   "name": "python3"
  },
  "language_info": {
   "codemirror_mode": {
    "name": "ipython",
    "version": 3
   },
   "file_extension": ".py",
   "mimetype": "text/x-python",
   "name": "python",
   "nbconvert_exporter": "python",
   "pygments_lexer": "ipython3",
   "version": "3.7.0"
  }
 },
 "nbformat": 4,
 "nbformat_minor": 2
}
